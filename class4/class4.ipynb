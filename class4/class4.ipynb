{
 "cells": [
  {
   "cell_type": "markdown",
   "id": "d442e001",
   "metadata": {},
   "source": [
    "# string\n",
    "\n",
    "## string formation\n",
    " ### string methods\n",
    " "
   ]
  },
  {
   "cell_type": "markdown",
   "id": "a22f45c9",
   "metadata": {},
   "source": [
    "#### class work"
   ]
  },
  {
   "cell_type": "code",
   "execution_count": null,
   "id": "503fecb6",
   "metadata": {},
   "outputs": [
    {
     "name": "stdout",
     "output_type": "stream",
     "text": [
      "n\n",
      "a\n"
     ]
    }
   ],
   "source": [
    "name = \"Rizwan Ahmed\"\n",
    "\n",
    "index = int(input(\"Select index number: \"))\n",
    "# if user know the index concept then its ok to write this print statement\n",
    "print(name[index])\n",
    "\n",
    "# but our user is a layman and he dont know indexing concept (practical approch) \n",
    "# if user dont know about index number he/ she only knows only length so we have to do this\n",
    "print(name[index-1])"
   ]
  },
  {
   "cell_type": "code",
   "execution_count": 9,
   "id": "d932b274",
   "metadata": {},
   "outputs": [
    {
     "name": "stdout",
     "output_type": "stream",
     "text": [
      "Rizwan Ahmed     2\n",
      "       Rizwan Ahmed     2\n",
      "Rizwan Ahmed     2\n"
     ]
    }
   ],
   "source": [
    "name = \"       Rizwan Ahmed     2\"\n",
    "\n",
    "print(name.lstrip())\n",
    "print(name.rstrip())\n",
    "print(name.strip())"
   ]
  }
 ],
 "metadata": {
  "kernelspec": {
   "display_name": "Python 3",
   "language": "python",
   "name": "python3"
  },
  "language_info": {
   "codemirror_mode": {
    "name": "ipython",
    "version": 3
   },
   "file_extension": ".py",
   "mimetype": "text/x-python",
   "name": "python",
   "nbconvert_exporter": "python",
   "pygments_lexer": "ipython3",
   "version": "3.13.7"
  }
 },
 "nbformat": 4,
 "nbformat_minor": 5
}
