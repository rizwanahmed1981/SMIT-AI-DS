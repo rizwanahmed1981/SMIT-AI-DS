{
 "cells": [
  {
   "cell_type": "markdown",
   "id": "896d8411",
   "metadata": {},
   "source": [
    "# Introduction to string\n",
    "# Task 1"
   ]
  },
  {
   "cell_type": "markdown",
   "id": "fc65f463",
   "metadata": {},
   "source": [
    "1) Create a string with your full name and print first and last character.\n",
    "2) Slice 'Programming' into 'Prog', 'gram', 'ing'.\n",
    "3) Apply .strip(), .lower(), .replace() on ' Python is AWESOME '.\n",
    "4) Take user input of favorite language and display message.\n",
    "5) Count how many times 'Python' appears in 'I love Python because Python is powerful'."
   ]
  },
  {
   "cell_type": "code",
   "execution_count": null,
   "id": "821a67c9",
   "metadata": {},
   "outputs": [
    {
     "name": "stdout",
     "output_type": "stream",
     "text": [
      "first char:  R\n",
      "last char:  d\n"
     ]
    }
   ],
   "source": [
    "# 1--Create a string with your full name and print first and last character\n",
    "\n",
    "my_name = \"Rizwan Ahmed\"\n",
    "\n",
    "length = len(my_name)\n",
    "\n",
    "print(\"first char: \", my_name[0])\n",
    "print(\"last char: \", my_name[length-1])\n"
   ]
  },
  {
   "cell_type": "code",
   "execution_count": null,
   "id": "645866f7",
   "metadata": {},
   "outputs": [
    {
     "name": "stdout",
     "output_type": "stream",
     "text": [
      "Prog: Prog\n",
      "gram: gram\n",
      "ing: ing\n"
     ]
    }
   ],
   "source": [
    "# 2--Slice 'Programming' into 'Prog', 'gram', 'ing'.\n",
    "\n",
    "text = \"Programming\"\n",
    "prog = text[0:4]\n",
    "gram = text[3:7]\n",
    "ing = text[8:]\n",
    "print(\"Prog:\", prog)\n",
    "print(\"gram:\", gram)\n",
    "print(\"ing:\", ing)"
   ]
  },
  {
   "cell_type": "code",
   "execution_count": 8,
   "id": "ac572775",
   "metadata": {},
   "outputs": [
    {
     "name": "stdout",
     "output_type": "stream",
     "text": [
      "Python is AWESOME\n",
      " python is awesome \n",
      " Python is AWESOME \n"
     ]
    }
   ],
   "source": [
    "# 3-- Apply .strip(), .lower(), .replace() on ' Python is AWESOME '.\n",
    "\n",
    "text = ' Python is AWESOME '\n",
    "\n",
    "print(text.strip())\n",
    "print(text.lower())\n",
    "print(text.replace(\"awsome\", \"fun\"))\n",
    "\n"
   ]
  },
  {
   "cell_type": "code",
   "execution_count": 12,
   "id": "6808feb4",
   "metadata": {},
   "outputs": [
    {
     "name": "stdout",
     "output_type": "stream",
     "text": [
      "your favourite language is English\n"
     ]
    }
   ],
   "source": [
    "# 4--Take user input of favorite language and display message.\n",
    "\n",
    "fav_lan = input(\"Enter your favourite language: \").capitalize()\n",
    "\n",
    "print(\"your favourite language is\",fav_lan)"
   ]
  },
  {
   "cell_type": "code",
   "execution_count": 14,
   "id": "fc256eed",
   "metadata": {},
   "outputs": [
    {
     "name": "stdout",
     "output_type": "stream",
     "text": [
      "'Python' appears 2 times.\n"
     ]
    }
   ],
   "source": [
    "# 5--Count how many times 'Python' appears in 'I love Python because Python is powerful'.\n",
    "text = 'I love Python because Python is powerful'\n",
    "count = text.count(\"Python\")\n",
    "print(\"'Python' appears\", count, \"times.\")"
   ]
  }
 ],
 "metadata": {
  "kernelspec": {
   "display_name": "Python 3",
   "language": "python",
   "name": "python3"
  },
  "language_info": {
   "codemirror_mode": {
    "name": "ipython",
    "version": 3
   },
   "file_extension": ".py",
   "mimetype": "text/x-python",
   "name": "python",
   "nbconvert_exporter": "python",
   "pygments_lexer": "ipython3",
   "version": "3.13.7"
  }
 },
 "nbformat": 4,
 "nbformat_minor": 5
}
