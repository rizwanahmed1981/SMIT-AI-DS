{
 "cells": [
  {
   "cell_type": "markdown",
   "id": "e1bff095",
   "metadata": {},
   "source": [
    "# swapping the variable values"
   ]
  },
  {
   "cell_type": "code",
   "execution_count": null,
   "id": "0235a51f",
   "metadata": {},
   "outputs": [
    {
     "name": "stdout",
     "output_type": "stream",
     "text": [
      "4 3\n"
     ]
    }
   ],
   "source": [
    "# method 1\n",
    "\n",
    "a = 3\n",
    "b = 4\n",
    "c = a\n",
    "a= b\n",
    "b = c\n",
    "print(a, b)"
   ]
  },
  {
   "cell_type": "code",
   "execution_count": null,
   "id": "4c1dfca1",
   "metadata": {},
   "outputs": [
    {
     "name": "stdout",
     "output_type": "stream",
     "text": [
      "4 3\n"
     ]
    }
   ],
   "source": [
    "# method 2  Short hand method to swap values\n",
    "\n",
    "a = 3\n",
    "b = 4\n",
    "\n",
    "a, b = b, a\n",
    "print(a, b)"
   ]
  },
  {
   "cell_type": "code",
   "execution_count": 8,
   "id": "964664c0",
   "metadata": {},
   "outputs": [
    {
     "name": "stdout",
     "output_type": "stream",
     "text": [
      "Hello World! Hello World! Hello World! Hello World! Hello World! \n"
     ]
    }
   ],
   "source": [
    "# printing values multiple times\n",
    "print(\"Hello World! \" * 5)"
   ]
  },
  {
   "cell_type": "code",
   "execution_count": 7,
   "id": "e72dc467",
   "metadata": {},
   "outputs": [
    {
     "name": "stdout",
     "output_type": "stream",
     "text": [
      "I am  Rizwan Ahmed my age is 42 and I have done Bachlors\n"
     ]
    }
   ],
   "source": [
    "name = \"Rizwan Ahmed\"\n",
    "age = 42\n",
    "edu = \"Bachlors\"\n",
    "\n",
    "print(\"I am \", name, \"my age is\", age, \"and I have done\" , edu)"
   ]
  },
  {
   "cell_type": "markdown",
   "id": "9f25bfa5",
   "metadata": {},
   "source": [
    "# operators\n",
    "## mathametical operators in python"
   ]
  },
  {
   "cell_type": "code",
   "execution_count": null,
   "id": "b2826396",
   "metadata": {},
   "outputs": [],
   "source": [
    "# \" + \"\n",
    "# \" - \"\n",
    "# \" * \" \n",
    "# \" / \"\n",
    "# \" // \"  Floor Division\n",
    "# \" % \"  Modulus\n",
    "# \" ** \"  Exponentiation\n",
    "\n",
    "\n"
   ]
  },
  {
   "cell_type": "code",
   "execution_count": 9,
   "id": "db0940ac",
   "metadata": {},
   "outputs": [
    {
     "name": "stdout",
     "output_type": "stream",
     "text": [
      "22\n"
     ]
    }
   ],
   "source": [
    "# concatination\n",
    "\n",
    "print(\"2\" + \"2\")"
   ]
  },
  {
   "cell_type": "markdown",
   "id": "ed46c02e",
   "metadata": {},
   "source": [
    "# type casting"
   ]
  },
  {
   "cell_type": "code",
   "execution_count": 12,
   "id": "075bb957",
   "metadata": {},
   "outputs": [
    {
     "name": "stdout",
     "output_type": "stream",
     "text": [
      "6.0\n"
     ]
    }
   ],
   "source": [
    "val_1 = float(input(\"Enter value 1: \"))\n",
    "val_2 = float(input(\"Enter value 2: \"))\n",
    "\n",
    "print(val_1 + val_2)"
   ]
  },
  {
   "cell_type": "markdown",
   "id": "aff67423",
   "metadata": {},
   "source": [
    "# f- string"
   ]
  },
  {
   "cell_type": "code",
   "execution_count": 13,
   "id": "831d8983",
   "metadata": {},
   "outputs": [
    {
     "name": "stdout",
     "output_type": "stream",
     "text": [
      "My name is Rizwan Ahmed\n"
     ]
    }
   ],
   "source": [
    "my_name = \"Rizwan Ahmed\"\n",
    "\n",
    "print(f\"My name is {my_name}\")"
   ]
  },
  {
   "cell_type": "code",
   "execution_count": 1,
   "id": "03b5e62a",
   "metadata": {},
   "outputs": [
    {
     "name": "stdout",
     "output_type": "stream",
     "text": [
      "Help on built-in function print in module builtins:\n",
      "\n",
      "print(*args, sep=' ', end='\\n', file=None, flush=False)\n",
      "    Prints the values to a stream, or to sys.stdout by default.\n",
      "\n",
      "    sep\n",
      "      string inserted between values, default a space.\n",
      "    end\n",
      "      string appended after the last value, default a newline.\n",
      "    file\n",
      "      a file-like object (stream); defaults to the current sys.stdout.\n",
      "    flush\n",
      "      whether to forcibly flush the stream.\n",
      "\n"
     ]
    }
   ],
   "source": [
    "help(print)"
   ]
  },
  {
   "cell_type": "code",
   "execution_count": null,
   "id": "e24a3bb5",
   "metadata": {},
   "outputs": [],
   "source": []
  },
  {
   "cell_type": "code",
   "execution_count": 7,
   "id": "804f9713",
   "metadata": {},
   "outputs": [
    {
     "name": "stdout",
     "output_type": "stream",
     "text": [
      "hello world hello world\n"
     ]
    }
   ],
   "source": [
    "print(\"hello world\", end=\" \")\n",
    "print(\"hello world\")"
   ]
  },
  {
   "cell_type": "code",
   "execution_count": null,
   "id": "cb85efee",
   "metadata": {},
   "outputs": [
    {
     "name": "stdout",
     "output_type": "stream",
     "text": [
      "5 10\n"
     ]
    }
   ],
   "source": [
    "a,b = 5, 10\n",
    "\n",
    "print(a,b)"
   ]
  }
 ],
 "metadata": {
  "kernelspec": {
   "display_name": "Python 3",
   "language": "python",
   "name": "python3"
  },
  "language_info": {
   "codemirror_mode": {
    "name": "ipython",
    "version": 3
   },
   "file_extension": ".py",
   "mimetype": "text/x-python",
   "name": "python",
   "nbconvert_exporter": "python",
   "pygments_lexer": "ipython3",
   "version": "3.13.7"
  }
 },
 "nbformat": 4,
 "nbformat_minor": 5
}
