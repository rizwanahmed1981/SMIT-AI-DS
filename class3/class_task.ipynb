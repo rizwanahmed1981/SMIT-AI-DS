{
 "cells": [
  {
   "cell_type": "markdown",
   "id": "17fa0bc0",
   "metadata": {},
   "source": [
    "# task 1\n"
   ]
  },
  {
   "cell_type": "code",
   "execution_count": 2,
   "id": "ce52a955",
   "metadata": {},
   "outputs": [
    {
     "name": "stdout",
     "output_type": "stream",
     "text": [
      "Rizwan Ahmed\n",
      "42\n",
      "Blue\n"
     ]
    }
   ],
   "source": [
    "print(\"Rizwan Ahmed\")\n",
    "print(42)\n",
    "print(\"Blue\")"
   ]
  },
  {
   "cell_type": "markdown",
   "id": "694eeaa1",
   "metadata": {},
   "source": [
    "# task 2 "
   ]
  },
  {
   "cell_type": "code",
   "execution_count": 3,
   "id": "c90e8731",
   "metadata": {},
   "outputs": [
    {
     "name": "stdout",
     "output_type": "stream",
     "text": [
      "my name is Rizwan Ahmed, my age is 42\n"
     ]
    }
   ],
   "source": [
    "my_name = \"Rizwan Ahmed\"\n",
    "age = 42\n",
    "\n",
    "print(f\"my name is {my_name}, my age is {age}\")"
   ]
  },
  {
   "cell_type": "markdown",
   "id": "44a3a4ad",
   "metadata": {},
   "source": [
    "# task 3\n"
   ]
  },
  {
   "cell_type": "code",
   "execution_count": 4,
   "id": "391c63fe",
   "metadata": {},
   "outputs": [
    {
     "name": "stdout",
     "output_type": "stream",
     "text": [
      "I libe in Karachi, Pakistan\n"
     ]
    }
   ],
   "source": [
    "city = \"Karachi\"\n",
    "country = \"Pakistan\"\n",
    "print(\"I libe in \" + city + \", \" + country)"
   ]
  },
  {
   "cell_type": "markdown",
   "id": "c74b844e",
   "metadata": {},
   "source": [
    "# task 4\n"
   ]
  },
  {
   "cell_type": "code",
   "execution_count": 5,
   "id": "bc9341aa",
   "metadata": {},
   "outputs": [
    {
     "name": "stdout",
     "output_type": "stream",
     "text": [
      "9\n",
      "-1\n",
      "20\n",
      "0.8\n"
     ]
    }
   ],
   "source": [
    "num1 = 4\n",
    "num2 = 5\n",
    "\n",
    "print(num1 + num2)\n",
    "print(num1 - num2)\n",
    "print(num1 * num2)\n",
    "print(num1 / num2)"
   ]
  },
  {
   "cell_type": "markdown",
   "id": "e3cbd87a",
   "metadata": {},
   "source": [
    "# task 5\n"
   ]
  },
  {
   "cell_type": "code",
   "execution_count": 6,
   "id": "96428dd0",
   "metadata": {},
   "outputs": [
    {
     "name": "stdout",
     "output_type": "stream",
     "text": [
      "My name is Rizwan Ahmed, I am 42 years old and I love coding.\n"
     ]
    }
   ],
   "source": [
    "name = \"Rizwan Ahmed\"\n",
    "age = 42\n",
    "hobby = \"coding\"\n",
    "\n",
    "print(f\"My name is {name}, I am {age} years old and I love {hobby}.\")"
   ]
  },
  {
   "cell_type": "markdown",
   "id": "cf2fe178",
   "metadata": {},
   "source": [
    "# task 6"
   ]
  },
  {
   "cell_type": "code",
   "execution_count": 7,
   "id": "c5b71688",
   "metadata": {},
   "outputs": [
    {
     "name": "stdout",
     "output_type": "stream",
     "text": [
      "10 3.5\n",
      "3.5 10\n"
     ]
    }
   ],
   "source": [
    "x = 10\n",
    "y = 3.5\n",
    "\n",
    "print(x , y)\n",
    "\n",
    "x, y = y, x\n",
    "\n",
    "print(x , y)"
   ]
  },
  {
   "cell_type": "markdown",
   "id": "f14e508f",
   "metadata": {},
   "source": [
    "# task 7"
   ]
  },
  {
   "cell_type": "code",
   "execution_count": 8,
   "id": "d799a91b",
   "metadata": {},
   "outputs": [
    {
     "name": "stdout",
     "output_type": "stream",
     "text": [
      "Temperature in Celsius: 35.5°C\n",
      "Temperature in Fahrenheit: 95.9°F\n"
     ]
    }
   ],
   "source": [
    "temp_cel = 35.5\n",
    "temp_feh = (temp_cel * 9/5) + 32\n",
    "\n",
    "print(f\"Temperature in Celsius: {temp_cel}°C\")\n",
    "print(f\"Temperature in Fahrenheit: {temp_feh}°F\")"
   ]
  },
  {
   "cell_type": "markdown",
   "id": "2ca7f774",
   "metadata": {},
   "source": [
    "# task 8"
   ]
  },
  {
   "cell_type": "code",
   "execution_count": 10,
   "id": "cccbda76",
   "metadata": {},
   "outputs": [
    {
     "name": "stdout",
     "output_type": "stream",
     "text": [
      "Apple = 120\n",
      "Milk = 200\n",
      "Bread = 80\n"
     ]
    }
   ],
   "source": [
    "apple = 120\n",
    "milk = 200\n",
    "bread = 80\n",
    "\n",
    "print(\"Apple =\", apple)\n",
    "print(\"Milk =\", milk)\n",
    "print(\"Bread =\", bread)\n"
   ]
  },
  {
   "cell_type": "markdown",
   "id": "1070951c",
   "metadata": {},
   "source": [
    "# task 9"
   ]
  },
  {
   "cell_type": "code",
   "execution_count": 12,
   "id": "0ada527a",
   "metadata": {},
   "outputs": [
    {
     "name": "stdout",
     "output_type": "stream",
     "text": [
      "Area of ractangle is  35\n",
      "Area of ractangle with length 5 and width 7 is 35.\n"
     ]
    }
   ],
   "source": [
    "length = 5\n",
    "width = 7\n",
    "area = length * width\n",
    "\n",
    "print(\"Area of ractangle is \", area)\n",
    "print(f\"Area of ractangle with length {length} and width {width} is {area}.\")"
   ]
  }
 ],
 "metadata": {
  "kernelspec": {
   "display_name": "Python 3",
   "language": "python",
   "name": "python3"
  },
  "language_info": {
   "codemirror_mode": {
    "name": "ipython",
    "version": 3
   },
   "file_extension": ".py",
   "mimetype": "text/x-python",
   "name": "python",
   "nbconvert_exporter": "python",
   "pygments_lexer": "ipython3",
   "version": "3.13.7"
  }
 },
 "nbformat": 4,
 "nbformat_minor": 5
}
