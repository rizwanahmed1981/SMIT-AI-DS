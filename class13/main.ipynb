{
 "cells": [
  {
   "cell_type": "markdown",
   "id": "fc5f669c",
   "metadata": {},
   "source": [
    "\n"
   ]
  },
  {
   "cell_type": "markdown",
   "id": "e267a714",
   "metadata": {},
   "source": [
    "# conditions\n",
    "#### if else elif"
   ]
  },
  {
   "cell_type": "code",
   "execution_count": null,
   "id": "951579c1",
   "metadata": {},
   "outputs": [
    {
     "name": "stdout",
     "output_type": "stream",
     "text": [
      "Hello! Rizwan ahmed son of Sherbaz you are eligible to have CNIC\n"
     ]
    }
   ],
   "source": [
    "name = input(\"Enter your name: \").title()\n",
    "Father_name = input(\"enter your father name: \").title()\n",
    "age = float(input(\"Enter your age: \"))\n",
    "country = input(\"Enter your conutry: \").lower()\n",
    "\n",
    "if age >= 18 and country == \"pakistan\":\n",
    "    print(f\"Hello! {name} son of {Father_name} you are eligible to have CNIC\")\n",
    "elif age < 18 and country == \"pakistan\":\n",
    "    print(f\" sorry! {name} your age is {age} you are not eligible to have CNIC\")\n",
    "elif country != \"pakistan\":\n",
    "    print(f\"Sorry! {name} you are not eligible to have CNIC because you are not a citizen of Pakistan\")"
   ]
  },
  {
   "cell_type": "code",
   "execution_count": null,
   "id": "f6479753",
   "metadata": {},
   "outputs": [],
   "source": [
    "company = input(\"Enter your desired company name: \").title()\n",
    "if company == \"Suzuki\":\n",
    "    capacity = int(input(\"Enter your bike capacity: \"))\n",
    "\n",
    "    "
   ]
  },
  {
   "cell_type": "code",
   "execution_count": 1,
   "id": "83675303",
   "metadata": {},
   "outputs": [
    {
     "name": "stdout",
     "output_type": "stream",
     "text": [
      "Karachi\n",
      "Rawalpindi\n"
     ]
    }
   ],
   "source": [
    "# Print those cities having more 2 'a' in city\n",
    "# e.g output: Multan, Lahore\n",
    "cities = ['Karachi', 'Quetta', 'Lahore', 'Rawalpindi', 'Multan']\n",
    "for city in cities:\n",
    "    if city.count('a') == 2:\n",
    "        print(city)\n"
   ]
  },
  {
   "cell_type": "code",
   "execution_count": 3,
   "id": "95103745",
   "metadata": {},
   "outputs": [
    {
     "name": "stdout",
     "output_type": "stream",
     "text": [
      "Karachi\n",
      "Rawalpindi\n"
     ]
    }
   ],
   "source": [
    "for city in cities:\n",
    "    alph = 0\n",
    "    for i in city:\n",
    "        if i == \"a\":\n",
    "            alph += 1\n",
    "            if alph == 2:\n",
    "                print(city)\n",
    "                 "
   ]
  }
 ],
 "metadata": {
  "kernelspec": {
   "display_name": "Python 3",
   "language": "python",
   "name": "python3"
  },
  "language_info": {
   "codemirror_mode": {
    "name": "ipython",
    "version": 3
   },
   "file_extension": ".py",
   "mimetype": "text/x-python",
   "name": "python",
   "nbconvert_exporter": "python",
   "pygments_lexer": "ipython3",
   "version": "3.13.7"
  }
 },
 "nbformat": 4,
 "nbformat_minor": 5
}
