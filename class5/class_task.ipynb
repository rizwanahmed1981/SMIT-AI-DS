{
 "cells": [
  {
   "cell_type": "markdown",
   "id": "dae5a7b5",
   "metadata": {},
   "source": [
    "# Class Task\n",
    "1) From 'DataScience', extract 'Data', 'Science', 'ataSci'.\n",
    "2) From 'Programming', extract 'ing' and 'gram' using negative indexing.\n",
    "3) From 'ABCDEFGHIJ', print every 2nd char, every 3rd char, and reverse.\n",
    "4) Take user input and print first 3, last 3, and middle part.\n",
    "5) Reverse each word in 'Python is fun' → 'nohtyP si nuf'."
   ]
  },
  {
   "cell_type": "code",
   "execution_count": 3,
   "id": "5626dd88",
   "metadata": {},
   "outputs": [
    {
     "name": "stdout",
     "output_type": "stream",
     "text": [
      "Data\n",
      "Scienc\n",
      "ataSci\n"
     ]
    }
   ],
   "source": [
    "course = \"DataScience\"\n",
    "\n",
    "print(course[:4])\n",
    "print(course[4:-1])\n",
    "print(course[1:7])"
   ]
  },
  {
   "cell_type": "code",
   "execution_count": 11,
   "id": "4af31d2c",
   "metadata": {},
   "outputs": [
    {
     "name": "stdout",
     "output_type": "stream",
     "text": [
      "ing\n",
      "gram\n"
     ]
    }
   ],
   "source": [
    "# 2) From 'Programming', extract 'ing' and 'gram' using negative indexing.\n",
    "\n",
    "lan_guage = \"Programming\"\n",
    "\n",
    "print(lan_guage[-3:])\n",
    "print(lan_guage[-8:-4])"
   ]
  },
  {
   "cell_type": "code",
   "execution_count": 14,
   "id": "bbaa163a",
   "metadata": {},
   "outputs": [
    {
     "name": "stdout",
     "output_type": "stream",
     "text": [
      "ACEGI\n",
      "ADGJ\n",
      "JIHGFEDCBA\n"
     ]
    }
   ],
   "source": [
    "#  3) From 'ABCDEFGHIJ', print every 2nd char, every 3rd char, and reverse.\n",
    "\n",
    "\n",
    "char = \"ABCDEFGHIJ\"\n",
    "\n",
    "print(char[0::2])\n",
    "print(char[0::3])\n",
    "print(char[::-1])"
   ]
  },
  {
   "cell_type": "code",
   "execution_count": 18,
   "id": "602a9fbe",
   "metadata": {},
   "outputs": [
    {
     "name": "stdout",
     "output_type": "stream",
     "text": [
      "Riz\n",
      "med\n",
      "wan Ah\n",
      "n \n"
     ]
    }
   ],
   "source": [
    "#  4) Take user input and print first 3, last 3, and middle part.\n",
    "\n",
    "user_input = input(\"Enter the string you like: \")\n",
    "\n",
    "print(user_input[:3])\n",
    "print(user_input[-3:])\n",
    "print(user_input[3:-3])\n",
    "mid = len(user_input)//2\n",
    "start = mid-1\n",
    "end = mid+1\n",
    "print(user_input[start:end])"
   ]
  },
  {
   "cell_type": "code",
   "execution_count": 30,
   "id": "e136356f",
   "metadata": {},
   "outputs": [
    {
     "name": "stdout",
     "output_type": "stream",
     "text": [
      "nuf  si nohtyP\n",
      "is \n"
     ]
    }
   ],
   "source": [
    "#  5) Reverse each word in 'Python is fun' → 'nohtyP si nuf'.\n",
    "\n",
    "language = 'Python is fun'\n",
    "word1 = language[:6]\n",
    "word2 = language[7:10]\n",
    "word3 = language[10:]\n",
    "print(f\"{word3[::-1]} {word2[::-1]} {word1[::-1]}\")\n",
    "print(word2)"
   ]
  }
 ],
 "metadata": {
  "kernelspec": {
   "display_name": "Python 3",
   "language": "python",
   "name": "python3"
  },
  "language_info": {
   "codemirror_mode": {
    "name": "ipython",
    "version": 3
   },
   "file_extension": ".py",
   "mimetype": "text/x-python",
   "name": "python",
   "nbconvert_exporter": "python",
   "pygments_lexer": "ipython3",
   "version": "3.13.7"
  }
 },
 "nbformat": 4,
 "nbformat_minor": 5
}
