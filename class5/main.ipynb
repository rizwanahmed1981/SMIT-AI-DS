{
 "cells": [
  {
   "cell_type": "markdown",
   "id": "46f632dc",
   "metadata": {},
   "source": [
    "# String Slicing\n",
    "\n",
    "slicing extracts a part of string using \"string[start:stop:step]\""
   ]
  },
  {
   "cell_type": "code",
   "execution_count": 2,
   "id": "9d15ebb1",
   "metadata": {},
   "outputs": [
    {
     "name": "stdout",
     "output_type": "stream",
     "text": [
      "Rizwa\n",
      "Rza h\n"
     ]
    }
   ],
   "source": [
    "name = \"Rizwan Ahmed\"\n",
    "\n",
    "print(name[0:5:1])\n",
    "print(name[0:9:2])"
   ]
  },
  {
   "cell_type": "markdown",
   "id": "5cb7f7ee",
   "metadata": {},
   "source": [
    "### negative indexin in slicing"
   ]
  },
  {
   "cell_type": "code",
   "execution_count": null,
   "id": "246cbb0f",
   "metadata": {},
   "outputs": [
    {
     "name": "stdout",
     "output_type": "stream",
     "text": [
      "demhA nawziR\n",
      "dmAnwi\n"
     ]
    }
   ],
   "source": [
    "# reverse anything\n",
    "\n",
    "print(name[::-1]) #if we put -1 at step point it is going to reverse the string, or List\n",
    "print(name[::-2]) #by default it is 1 when we put a negative number its gonna reverse "
   ]
  },
  {
   "cell_type": "markdown",
   "id": "85ba0483",
   "metadata": {},
   "source": [
    "* print(name[:len(word//2)])"
   ]
  },
  {
   "cell_type": "code",
   "execution_count": 10,
   "id": "10dd12e0",
   "metadata": {},
   "outputs": [
    {
     "name": "stdout",
     "output_type": "stream",
     "text": [
      "Rizwan\n",
      "6\n"
     ]
    }
   ],
   "source": [
    "print(name[:len(name)//2])\n",
    "\n",
    "num = len(name)//2   #----we can put variable at any place in slicing\n",
    "\n",
    "print(num)"
   ]
  },
  {
   "cell_type": "code",
   "execution_count": 12,
   "id": "8d96c170",
   "metadata": {},
   "outputs": [
    {
     "name": "stdout",
     "output_type": "stream",
     "text": [
      "hon\n",
      "ytho\n"
     ]
    }
   ],
   "source": [
    "text = \"python\"\n",
    "\n",
    "print(text[-3:])\n",
    "print(text[1:-1])"
   ]
  }
 ],
 "metadata": {
  "kernelspec": {
   "display_name": "Python 3",
   "language": "python",
   "name": "python3"
  },
  "language_info": {
   "codemirror_mode": {
    "name": "ipython",
    "version": 3
   },
   "file_extension": ".py",
   "mimetype": "text/x-python",
   "name": "python",
   "nbconvert_exporter": "python",
   "pygments_lexer": "ipython3",
   "version": "3.13.7"
  }
 },
 "nbformat": 4,
 "nbformat_minor": 5
}
