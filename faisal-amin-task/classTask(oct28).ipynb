{
 "cells": [
  {
   "cell_type": "markdown",
   "id": "806556e2",
   "metadata": {},
   "source": [
    "1) Create a set of fruits and perform add, remove, and update.\n",
    "2) Find common and unique subjects of two students.\n",
    "3) Check if one set is a subset of another.\n",
    "4) Convert a list into a set and count unique elements.\n",
    "5) Check if two sets are disjoint."
   ]
  },
  {
   "cell_type": "code",
   "execution_count": 3,
   "id": "f98d1cc8",
   "metadata": {},
   "outputs": [
    {
     "name": "stdout",
     "output_type": "stream",
     "text": [
      "fruits set after addition {'Pineapple', 'Banana', 'Cherry', 'grapes', 'WaterMelon', 'Apple'}\n",
      "fruits set after rmove {'Pineapple', 'Banana', 'Cherry', 'WaterMelon', 'Apple'}\n",
      "fruits set after update {'Mango', 'Cherry', 'WaterMelon', 'Peach', 'Apple', 'Pineapple', 'Banana'}\n"
     ]
    }
   ],
   "source": [
    "fruits_set = {\"Apple\", \"Banana\", \"grapes\", \"Pineapple\", \"Cherry\"}\n",
    "\n",
    "fruits_set.add(\"WaterMelon\")\n",
    "\n",
    "print(\"fruits set after addition\",fruits_set)\n",
    "\n",
    "fruits_set.remove(\"grapes\")\n",
    "print(\"fruits set after rmove\",fruits_set)\n",
    "\n",
    "fav_fruits_set = {\"Apple\", \"Mango\", \"Peach\"}\n",
    "fruits_set.update(fav_fruits_set)\n",
    "\n",
    "print(\"fruits set after update\",fruits_set)\n"
   ]
  },
  {
   "cell_type": "code",
   "execution_count": 9,
   "id": "692ef9f7",
   "metadata": {},
   "outputs": [
    {
     "name": "stdout",
     "output_type": "stream",
     "text": [
      "common subjects {'english', 'physics'}\n",
      "Unique subjects of student 1 are {'chemistery', 'math'}\n",
      "Unique subjects of student 2 are {'urdu', 'sindhi'}\n"
     ]
    }
   ],
   "source": [
    "student_1 = {\"physics\", \"chemistery\", \"math\", \"english\"}\n",
    "student_2 = {\"physics\", \"sindhi\", \"urdu\", \"english\"}\n",
    "\n",
    "common_subj = student_1.intersection(student_2)\n",
    "\n",
    "print(\"common subjects\",common_subj)\n",
    "\n",
    "unique_subj_student_1 = student_1.difference(student_2)\n",
    "\n",
    "print(\"Unique subjects of student 1 are\",unique_subj_student_1)\n",
    "\n",
    "unique_subj_student_2 = student_2.difference(student_1)\n",
    "print(\"Unique subjects of student 2 are\",unique_subj_student_2)"
   ]
  },
  {
   "cell_type": "code",
   "execution_count": 13,
   "id": "6d6284ce",
   "metadata": {},
   "outputs": [
    {
     "name": "stdout",
     "output_type": "stream",
     "text": [
      "False\n",
      "True\n",
      "True\n"
     ]
    }
   ],
   "source": [
    "set1 = {1,2,4,5,6,7,8,9}\n",
    "set2 = {3,4,5,6,8}\n",
    "set3 = {4,5,6}\n",
    "\n",
    "print(set2.issubset(set1))\n",
    "print(set3.issubset(set2))\n",
    "print(set3.issubset(set1))"
   ]
  },
  {
   "cell_type": "code",
   "execution_count": 15,
   "id": "e31f8429",
   "metadata": {},
   "outputs": [
    {
     "data": {
      "text/plain": [
       "9"
      ]
     },
     "execution_count": 15,
     "metadata": {},
     "output_type": "execute_result"
    }
   ],
   "source": [
    "num_list = [1,2,2,3,4,5,6,6,7,7,7,8,4,3,9]\n",
    "\n",
    "\n",
    "num_set = set(num_list)\n",
    "\n",
    "len(num_set)\n",
    "\n",
    "\n"
   ]
  },
  {
   "cell_type": "code",
   "execution_count": 18,
   "id": "b50908bd",
   "metadata": {},
   "outputs": [
    {
     "data": {
      "text/plain": [
       "False"
      ]
     },
     "execution_count": 18,
     "metadata": {},
     "output_type": "execute_result"
    }
   ],
   "source": [
    "set2.isdisjoint(set1)"
   ]
  }
 ],
 "metadata": {
  "kernelspec": {
   "display_name": "Python 3",
   "language": "python",
   "name": "python3"
  },
  "language_info": {
   "codemirror_mode": {
    "name": "ipython",
    "version": 3
   },
   "file_extension": ".py",
   "mimetype": "text/x-python",
   "name": "python",
   "nbconvert_exporter": "python",
   "pygments_lexer": "ipython3",
   "version": "3.13.7"
  }
 },
 "nbformat": 4,
 "nbformat_minor": 5
}
