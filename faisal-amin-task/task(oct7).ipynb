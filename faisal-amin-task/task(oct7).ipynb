{
 "cells": [
  {
   "cell_type": "markdown",
   "id": "11b91a98",
   "metadata": {},
   "source": [
    "### Task 1\n",
    "\n",
    "- Scholarship Eligibility\n",
    "- Write a Python program to determine whether a student is eligible for a scholarship\n",
    "- The student is eligible if:\n",
    "- marks >= 85 and attendance >= 80\n",
    "- OR the student is a national-level athlete.\n",
    "- If eligible, print 'Scholarship Granted', otherwise print 'Scholarship Denied'."
   ]
  },
  {
   "cell_type": "code",
   "execution_count": 1,
   "id": "7cc9d028",
   "metadata": {},
   "outputs": [
    {
     "name": "stdout",
     "output_type": "stream",
     "text": [
      "You are eligible for a scholarship.\n"
     ]
    }
   ],
   "source": [
    "marks = float(input(\"Enter your marks: \"))\n",
    "attendence = float(input(\"Enter your attendance percentage: \"))\n",
    "is_athelete = input(\"Are you an athlete? (yes/no): \").strip().lower() == 'yes'\n",
    "\n",
    "if marks >= 85 and attendence >= 80:\n",
    "    if is_athelete:\n",
    "        print(\"You are eligible for a scholarship.\")\n",
    "    else:\n",
    "        print(\"You are eligible for a scholarship.\")\n",
    "\n"
   ]
  },
  {
   "cell_type": "markdown",
   "id": "2b910da6",
   "metadata": {},
   "source": [
    "### task 2\n",
    "\n",
    "— Smart Home Heater\n",
    "- Write a Python program that decides whether the heater should turn ON\n",
    "- Turn ON if:\n",
    "- temperature < 18 and humidity > 40\n",
    "- OR the user manually activates the heater.\n",
    "- Print 'Heater ON' or 'Heater OFF'."
   ]
  },
  {
   "cell_type": "code",
   "execution_count": 4,
   "id": "cde0bfdd",
   "metadata": {},
   "outputs": [
    {
     "name": "stdout",
     "output_type": "stream",
     "text": [
      "Heater OFF\n"
     ]
    }
   ],
   "source": [
    "temp = float(input(\"Enter the current temperature (°C): \"))\n",
    "humidity = float(input(\"Enter the current humidity (%): \"))\n",
    "manual_activation = input(\"Do you want to manually activate the heater? (yes/no): \").strip().lower() == 'yes'\n",
    "\n",
    "if (temp < 18 and humidity > 40) or manual_activation:\n",
    "    print(\"Heater ON\")\n",
    "else:\n",
    "    print(\"Heater OFF\")"
   ]
  },
  {
   "cell_type": "markdown",
   "id": "c1168de5",
   "metadata": {},
   "source": [
    "### task 3\n",
    "\n",
    "— E-commerce Coupon\n",
    "- Write a Python program to check if a customer is eligible for a special coupon\n",
    "- Eligible if:\n",
    "- purchased > 3 items and total_bill > 10000\n",
    "- OR the customer is a premium member.\n",
    "- Print 'Coupon Activated' or 'No Coupon Available'."
   ]
  },
  {
   "cell_type": "code",
   "execution_count": 9,
   "id": "2ff8b6b3",
   "metadata": {},
   "outputs": [
    {
     "name": "stdout",
     "output_type": "stream",
     "text": [
      "No Coupon Available\n"
     ]
    }
   ],
   "source": [
    "items_purchased = int(input(\"Enter the number of items purchased: \"))\n",
    "total_bill = float(input(\"Enter the total bill amount: \"))\n",
    "is_premium_member = input(\"Are you a premium member? (yes/no): \").strip().lower() == 'yes'\n",
    "\n",
    "if (items_purchased > 3 and total_bill > 10000) or is_premium_member:\n",
    "    print(\"Coupon Activated\")\n",
    "else:\n",
    "    print(\"No Coupon Available\")"
   ]
  },
  {
   "cell_type": "markdown",
   "id": "0ac3a950",
   "metadata": {},
   "source": [
    "### Task 4 \n",
    "\n",
    "— Flight Boarding\n",
    "- Write a Python program to determine if a passenger can board a flight\n",
    "- Allowed if:\n",
    "- has a valid ticket and a valid passport\n",
    "- OR is a VIP passenger.\n",
    "- Print 'Boarding Allowed' or 'Boarding Denied'."
   ]
  },
  {
   "cell_type": "code",
   "execution_count": 12,
   "id": "2e9f4706",
   "metadata": {},
   "outputs": [
    {
     "name": "stdout",
     "output_type": "stream",
     "text": [
      "Boarding Allowed\n"
     ]
    }
   ],
   "source": [
    "ticket_valid = input(\"Do you have a valid ticket? (yes/no): \").strip().lower() == 'yes'\n",
    "passport_valid = input(\"Do you have a valid passport? (yes/no): \").strip().lower() == 'yes'\n",
    "is_vip = input(\"Are you a VIP passenger? (yes/no): \").strip().lower() == 'yes'\n",
    "\n",
    "if (ticket_valid and passport_valid) or is_vip:\n",
    "    print(\"Boarding Allowed\")\n",
    "else:\n",
    "    print(\"Boarding Denied\")"
   ]
  },
  {
   "cell_type": "markdown",
   "id": "a60e9324",
   "metadata": {},
   "source": [
    "### Task 5 \n",
    "— Insurance Premium Offer\n",
    "- Write a Python program to determine if a person qualifies for a premium insurance offer \n",
    "- Qualified if:\n",
    "- age between 25 and 50 (inclusive) and health_score > 70\n",
    "- OR the person has chosen a premium plan.\n",
    "- Print 'Premium Offered' or 'Premium Not Offered'."
   ]
  },
  {
   "cell_type": "code",
   "execution_count": 24,
   "id": "dd36e7a0",
   "metadata": {},
   "outputs": [
    {
     "name": "stdout",
     "output_type": "stream",
     "text": [
      "Premium Not Offered\n"
     ]
    }
   ],
   "source": [
    "age = float(input(\"Enter your current age: \"))\n",
    "health_score = float(input(\"Enter your health score: \"))\n",
    "choosen_premium_plan = input(\"Would you like to have premium plan (yes/no): \").strip().lower() == \"yes\"\n",
    "\n",
    "if ((25 <= age <= 50 ) and health_score > 70) or choosen_premium_plan:\n",
    "    print('Premium Offered')\n",
    "else:\n",
    "    print('Premium Not Offered')\n"
   ]
  },
  {
   "cell_type": "markdown",
   "id": "f4a7ecae",
   "metadata": {},
   "source": [
    "### Task 6 \n",
    "— Exam Retake Decision\n",
    "- Write a Python program to check if a student must retake the exam \n",
    "- Retake if:\n",
    "- marks < 40 and attendance < 70\n",
    "- OR the student missed the final exam.\n",
    "- Print 'Retake Required' or 'No Retake Needed'."
   ]
  },
  {
   "cell_type": "code",
   "execution_count": 28,
   "id": "ff23267d",
   "metadata": {},
   "outputs": [
    {
     "name": "stdout",
     "output_type": "stream",
     "text": [
      "Retake Needed\n"
     ]
    }
   ],
   "source": [
    "apeared_in_exam = input(\"Did you apear in exam (yes/no): \").strip().lower() == 'yes'\n",
    "\n",
    "\n",
    "if apeared_in_exam:\n",
    "    marks = float(input(\"Please enter your obtained marks: \"))\n",
    "    attendence = float(input(\"Please enter your attendence %: \"))\n",
    "    if (marks > 40 and attendence > 70):\n",
    "        print(\"No Retake Needed\")\n",
    "    else:\n",
    "        print(\"Retake Needed\")\n",
    "else:\n",
    "    print(\"Retake Needed\")\n"
   ]
  },
  {
   "cell_type": "markdown",
   "id": "391a91c6",
   "metadata": {},
   "source": [
    "### Task 7 \n",
    "— Loyalty Discount\n",
    "- Write a Python program to determine if a customer qualifies for a loyalty discount\n",
    "- Qualified if:\n",
    "- purchases > 10 and total_spent > 50000\n",
    "- OR the customer is a 'Gold' member.\n",
    "- Print 'Loyalty Discount Applied' or 'No Discount'."
   ]
  },
  {
   "cell_type": "code",
   "execution_count": 31,
   "id": "de8f29cf",
   "metadata": {},
   "outputs": [
    {
     "name": "stdout",
     "output_type": "stream",
     "text": [
      "No Discount\n"
     ]
    }
   ],
   "source": [
    "purchases = int(input(\"how many goods you purchased: \"))\n",
    "amount_spent = float(input(\"Total Amount spent: \"))\n",
    "is_gold_member = input(\"Are you a Gold Member: \").strip().lower() == \"yes\"\n",
    "\n",
    "if (purchases > 10 and amount_spent > 50000) or is_gold_member:\n",
    "    print(\"Loyalty Discount Applied\")\n",
    "else:\n",
    "    print(\"No Discount\")"
   ]
  }
 ],
 "metadata": {
  "kernelspec": {
   "display_name": "base",
   "language": "python",
   "name": "python3"
  },
  "language_info": {
   "codemirror_mode": {
    "name": "ipython",
    "version": 3
   },
   "file_extension": ".py",
   "mimetype": "text/x-python",
   "name": "python",
   "nbconvert_exporter": "python",
   "pygments_lexer": "ipython3",
   "version": "3.11.5"
  }
 },
 "nbformat": 4,
 "nbformat_minor": 5
}
