{
 "cells": [
  {
   "cell_type": "markdown",
   "id": "833ff338",
   "metadata": {},
   "source": [
    "### Task 1\n",
    "-- Create a list of 5 student names.\n",
    "\n",
    "- Add a new student using append().\n",
    "- Insert one name at index 2.\n",
    "- Remove one name using remove().\n",
    "- Finally, sort the list."
   ]
  },
  {
   "cell_type": "code",
   "execution_count": 2,
   "id": "187c0d49",
   "metadata": {},
   "outputs": [
    {
     "data": {
      "text/plain": [
       "['Ali', 'Adnan', 'Shahid', 'Hafiz', 'Noman', 'Rizwan']"
      ]
     },
     "execution_count": 2,
     "metadata": {},
     "output_type": "execute_result"
    }
   ],
   "source": [
    "student_names = [\"Ali\", \"Adnan\", \"Shahid\", \"Hafiz\", \"Noman\"]\n",
    "\n",
    "student_names.append(\"Rizwan\")\n",
    "\n",
    "student_names"
   ]
  },
  {
   "cell_type": "code",
   "execution_count": 3,
   "id": "50ed90f8",
   "metadata": {},
   "outputs": [
    {
     "data": {
      "text/plain": [
       "['Ali', 'Adnan', 'Nabeel', 'Shahid', 'Hafiz', 'Noman', 'Rizwan']"
      ]
     },
     "execution_count": 3,
     "metadata": {},
     "output_type": "execute_result"
    }
   ],
   "source": [
    "student_names.insert(2, \"Nabeel\")\n",
    "\n",
    "student_names"
   ]
  },
  {
   "cell_type": "code",
   "execution_count": 4,
   "id": "f0dbced2",
   "metadata": {},
   "outputs": [
    {
     "data": {
      "text/plain": [
       "['Ali', 'Adnan', 'Nabeel', 'Shahid', 'Noman', 'Rizwan']"
      ]
     },
     "execution_count": 4,
     "metadata": {},
     "output_type": "execute_result"
    }
   ],
   "source": [
    "student_names.remove(\"Hafiz\")\n",
    "\n",
    "student_names"
   ]
  },
  {
   "cell_type": "code",
   "execution_count": 6,
   "id": "44ec2da1",
   "metadata": {},
   "outputs": [
    {
     "data": {
      "text/plain": [
       "['Adnan', 'Ali', 'Nabeel', 'Noman', 'Rizwan', 'Shahid']"
      ]
     },
     "execution_count": 6,
     "metadata": {},
     "output_type": "execute_result"
    }
   ],
   "source": [
    "student_names.sort()\n",
    "student_names"
   ]
  },
  {
   "cell_type": "markdown",
   "id": "da0d1c6f",
   "metadata": {},
   "source": [
    "### Task 2\n",
    "\n",
    "-- Student Tasks (Without Solutions) Try these tasks on your own:\n",
    "- Create a list of numbers and use pop() to remove the last two items.\n",
    "- Make a list of 5 countries. Use insert() to add one at index 3, then use count() to count a specific country.\n",
    "- Create a list of integers. Use sort() and then reverse() to show them in descending order.\n",
    "- Use copy() to duplicate a list. Change one element in the copy and show that the original list remains unchanged.\n",
    "- Combine two lists of fruits and vegetables and check if 'apple' is present in the combined list."
   ]
  },
  {
   "cell_type": "code",
   "execution_count": 7,
   "id": "a15599f8",
   "metadata": {},
   "outputs": [
    {
     "data": {
      "text/plain": [
       "[1, 2, 3, 4, 5, 6]"
      ]
     },
     "execution_count": 7,
     "metadata": {},
     "output_type": "execute_result"
    }
   ],
   "source": [
    "nums = [1,2,3,4,5,6,7,8]\n",
    "\n",
    "nums.pop()\n",
    "nums.pop()\n",
    "nums"
   ]
  },
  {
   "cell_type": "code",
   "execution_count": null,
   "id": "6163f208",
   "metadata": {},
   "outputs": [
    {
     "name": "stdout",
     "output_type": "stream",
     "text": [
      "['Pakistan', 'Bangladesh', 'China', 'India', 'Iran', 'South Korea']\n"
     ]
    }
   ],
   "source": [
    "country_names = ['Pakistan', 'Bangladesh', 'China', 'Iran', 'South Korea']\n",
    "\n",
    "country_names.insert(3, \"India\")\n",
    "\n",
    "print(country_names)"
   ]
  },
  {
   "cell_type": "code",
   "execution_count": 11,
   "id": "8e189d41",
   "metadata": {},
   "outputs": [
    {
     "name": "stdout",
     "output_type": "stream",
     "text": [
      "['Pakistan', 'Bangladesh', 'China', 'India', 'Iran', 'South Korea']\n",
      "['Pakistan', 'Bangladesh', 'Saudi Arabia', 'India', 'Iran', 'South Korea']\n"
     ]
    }
   ],
   "source": [
    "copied_country_names = country_names.copy()\n",
    "\n",
    "copied_country_names[2] = \"Saudi Arabia\"\n",
    "\n",
    "print(country_names)\n",
    "print(copied_country_names)"
   ]
  },
  {
   "cell_type": "code",
   "execution_count": 16,
   "id": "c5c17461",
   "metadata": {},
   "outputs": [
    {
     "name": "stdout",
     "output_type": "stream",
     "text": [
      "['Mango', 'Banana', 'Apple', 'Watermelon', 'Potato', 'cucumber', 'Lady Finger']\n",
      "True\n"
     ]
    }
   ],
   "source": [
    "fruits = [\n",
    "    'Mango',\n",
    "    'Banana',\n",
    "    'Apple',\n",
    "    'Watermelon'\n",
    "]\n",
    "\n",
    "vagitables = [\n",
    "    'Potato',\n",
    "    'cucumber',\n",
    "    'Lady Finger'\n",
    "]\n",
    "\n",
    "# method-1\n",
    "merged_list = fruits + vagitables\n",
    "print(merged_list)\n",
    "print(\"Apple\" in merged_list)\n",
    "\n",
    "# method-2\n",
    "# vagitables.extend(fruits)\n",
    "# print(vagitables)\n",
    "\n",
    "# print(\"Apple\" in vagitables)"
   ]
  }
 ],
 "metadata": {
  "kernelspec": {
   "display_name": "base",
   "language": "python",
   "name": "python3"
  },
  "language_info": {
   "codemirror_mode": {
    "name": "ipython",
    "version": 3
   },
   "file_extension": ".py",
   "mimetype": "text/x-python",
   "name": "python",
   "nbconvert_exporter": "python",
   "pygments_lexer": "ipython3",
   "version": "3.11.5"
  }
 },
 "nbformat": 4,
 "nbformat_minor": 5
}
