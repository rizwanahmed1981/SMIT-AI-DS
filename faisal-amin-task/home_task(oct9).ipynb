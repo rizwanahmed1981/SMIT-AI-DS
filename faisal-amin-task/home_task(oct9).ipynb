{
 "cells": [
  {
   "cell_type": "markdown",
   "id": "833ff338",
   "metadata": {},
   "source": [
    "### Task 1\n",
    "-- Create a list of 5 student names.\n",
    "\n",
    "- Add a new student using append().\n",
    "- Insert one name at index 2.\n",
    "- Remove one name using remove().\n",
    "- Finally, sort the list."
   ]
  },
  {
   "cell_type": "code",
   "execution_count": 2,
   "id": "187c0d49",
   "metadata": {},
   "outputs": [
    {
     "data": {
      "text/plain": [
       "['Ali', 'Adnan', 'Shahid', 'Hafiz', 'Noman', 'Rizwan']"
      ]
     },
     "execution_count": 2,
     "metadata": {},
     "output_type": "execute_result"
    }
   ],
   "source": [
    "student_names = [\"Ali\", \"Adnan\", \"Shahid\", \"Hafiz\", \"Noman\"]\n",
    "\n",
    "student_names.append(\"Rizwan\")\n",
    "\n",
    "student_names"
   ]
  },
  {
   "cell_type": "code",
   "execution_count": 3,
   "id": "50ed90f8",
   "metadata": {},
   "outputs": [
    {
     "data": {
      "text/plain": [
       "['Ali', 'Adnan', 'Nabeel', 'Shahid', 'Hafiz', 'Noman', 'Rizwan']"
      ]
     },
     "execution_count": 3,
     "metadata": {},
     "output_type": "execute_result"
    }
   ],
   "source": [
    "student_names.insert(2, \"Nabeel\")\n",
    "\n",
    "student_names"
   ]
  },
  {
   "cell_type": "code",
   "execution_count": 4,
   "id": "f0dbced2",
   "metadata": {},
   "outputs": [
    {
     "data": {
      "text/plain": [
       "['Ali', 'Adnan', 'Nabeel', 'Shahid', 'Noman', 'Rizwan']"
      ]
     },
     "execution_count": 4,
     "metadata": {},
     "output_type": "execute_result"
    }
   ],
   "source": [
    "student_names.remove(\"Hafiz\")\n",
    "\n",
    "student_names"
   ]
  },
  {
   "cell_type": "code",
   "execution_count": 6,
   "id": "44ec2da1",
   "metadata": {},
   "outputs": [
    {
     "data": {
      "text/plain": [
       "['Adnan', 'Ali', 'Nabeel', 'Noman', 'Rizwan', 'Shahid']"
      ]
     },
     "execution_count": 6,
     "metadata": {},
     "output_type": "execute_result"
    }
   ],
   "source": [
    "student_names.sort()\n",
    "student_names"
   ]
  },
  {
   "cell_type": "markdown",
   "id": "da0d1c6f",
   "metadata": {},
   "source": [
    "### Task 2\n",
    "\n",
    "-- Student Tasks (Without Solutions) Try these tasks on your own:\n",
    "- Create a list of numbers and use pop() to remove the last two items.\n",
    "- Make a list of 5 countries. Use insert() to add one at index 3, then use count() to count a specific country.\n",
    "- Create a list of integers. Use sort() and then reverse() to show them in descending order.\n",
    "- Use copy() to duplicate a list. Change one element in the copy and show that the original list remains unchanged.\n",
    "- Combine two lists of fruits and vegetables and check if 'apple' is present in the combined list."
   ]
  },
  {
   "cell_type": "code",
   "execution_count": 7,
   "id": "a15599f8",
   "metadata": {},
   "outputs": [
    {
     "data": {
      "text/plain": [
       "[1, 2, 3, 4, 5, 6]"
      ]
     },
     "execution_count": 7,
     "metadata": {},
     "output_type": "execute_result"
    }
   ],
   "source": [
    "nums = [1,2,3,4,5,6,7,8]\n",
    "\n",
    "nums.pop()\n",
    "nums.pop()\n",
    "nums"
   ]
  },
  {
   "cell_type": "code",
   "execution_count": null,
   "id": "6163f208",
   "metadata": {},
   "outputs": [
    {
     "name": "stdout",
     "output_type": "stream",
     "text": [
      "['Pakistan', 'Bangladesh', 'China', 'India', 'Iran', 'South Korea']\n"
     ]
    }
   ],
   "source": [
    "country_names = ['Pakistan', 'Bangladesh', 'China', 'Iran', 'South Korea']\n",
    "\n",
    "country_names.insert(3, \"India\")\n",
    "\n",
    "print(country_names)"
   ]
  },
  {
   "cell_type": "code",
   "execution_count": 11,
   "id": "8e189d41",
   "metadata": {},
   "outputs": [
    {
     "name": "stdout",
     "output_type": "stream",
     "text": [
      "['Pakistan', 'Bangladesh', 'China', 'India', 'Iran', 'South Korea']\n",
      "['Pakistan', 'Bangladesh', 'Saudi Arabia', 'India', 'Iran', 'South Korea']\n"
     ]
    }
   ],
   "source": [
    "copied_country_names = country_names.copy()\n",
    "\n",
    "copied_country_names[2] = \"Saudi Arabia\"\n",
    "\n",
    "print(country_names)\n",
    "print(copied_country_names)"
   ]
  },
  {
   "cell_type": "code",
   "execution_count": 16,
   "id": "c5c17461",
   "metadata": {},
   "outputs": [
    {
     "name": "stdout",
     "output_type": "stream",
     "text": [
      "['Mango', 'Banana', 'Apple', 'Watermelon', 'Potato', 'cucumber', 'Lady Finger']\n",
      "True\n"
     ]
    }
   ],
   "source": [
    "fruits = [\n",
    "    'Mango',\n",
    "    'Banana',\n",
    "    'Apple',\n",
    "    'Watermelon'\n",
    "]\n",
    "\n",
    "vagitables = [\n",
    "    'Potato',\n",
    "    'cucumber',\n",
    "    'Lady Finger'\n",
    "]\n",
    "\n",
    "# method-1\n",
    "merged_list = fruits + vagitables\n",
    "print(merged_list)\n",
    "print(\"Apple\" in merged_list)\n",
    "\n",
    "# method-2\n",
    "# vagitables.extend(fruits)\n",
    "# print(vagitables)\n",
    "\n",
    "# print(\"Apple\" in vagitables)"
   ]
  },
  {
   "cell_type": "markdown",
   "id": "8fd5e083",
   "metadata": {},
   "source": [
    "# print all numbers from 1 to 15 and show their cubes"
   ]
  },
  {
   "cell_type": "code",
   "execution_count": 1,
   "id": "2310b152",
   "metadata": {},
   "outputs": [
    {
     "name": "stdout",
     "output_type": "stream",
     "text": [
      "the cube of 1 is 1\n",
      "the cube of 2 is 8\n",
      "the cube of 3 is 27\n",
      "the cube of 4 is 64\n",
      "the cube of 5 is 125\n",
      "the cube of 6 is 216\n",
      "the cube of 7 is 343\n",
      "the cube of 8 is 512\n",
      "the cube of 9 is 729\n",
      "the cube of 10 is 1000\n",
      "the cube of 11 is 1331\n",
      "the cube of 12 is 1728\n",
      "the cube of 13 is 2197\n",
      "the cube of 14 is 2744\n",
      "the cube of 15 is 3375\n"
     ]
    }
   ],
   "source": [
    "for num in range(1,16):\n",
    "    print(f\"the cube of {num} is {num**3}\")"
   ]
  },
  {
   "cell_type": "markdown",
   "id": "cfee9344",
   "metadata": {},
   "source": [
    "### print only the names that start with 'A' from this list : ['Ali', 'Sara', 'Asad', 'Hina', 'Ahsan']"
   ]
  },
  {
   "cell_type": "code",
   "execution_count": null,
   "id": "d7c413c0",
   "metadata": {},
   "outputs": [
    {
     "name": "stdout",
     "output_type": "stream",
     "text": [
      "Ali\n",
      "Asad\n",
      "Ahsan\n"
     ]
    }
   ],
   "source": [
    "names = ['Ali', 'Sara', 'Asad', 'Hina', 'Ahsan']\n",
    "\n",
    "for name in names:\n",
    "    for char in name:\n",
    "        if char == 'A':\n",
    "            print(name)\n",
    "\n",
    "# kar tu dia hay per aproach achi naheen lag rahi"
   ]
  },
  {
   "cell_type": "code",
   "execution_count": 3,
   "id": "6dcce361",
   "metadata": {},
   "outputs": [
    {
     "name": "stdout",
     "output_type": "stream",
     "text": [
      "Ali\n",
      "Asad\n",
      "Ahsan\n"
     ]
    }
   ],
   "source": [
    "names = ['Ali', 'Sara', 'Asad', 'Hina', 'Ahsan']\n",
    "\n",
    "for name in names:\n",
    "    if name[0] == 'A':\n",
    "            print(name)"
   ]
  },
  {
   "cell_type": "markdown",
   "id": "785bcd88",
   "metadata": {},
   "source": [
    "# write a loop to find the sum of all even numbers between 50 and 100"
   ]
  },
  {
   "cell_type": "code",
   "execution_count": null,
   "id": "e6bad1b1",
   "metadata": {},
   "outputs": [
    {
     "name": "stdout",
     "output_type": "stream",
     "text": [
      "sum of all even number from 50 to 100 is 1950\n",
      "[50, 52, 54, 56, 58, 60, 62, 64, 66, 68, 70, 72, 74, 76, 78, 80, 82, 84, 86, 88, 90, 92, 94, 96, 98, 100]\n"
     ]
    }
   ],
   "source": [
    "# if 50 and 100 inclusive\n",
    "\n",
    "even_nums = []\n",
    "for num in range(50,101):\n",
    "    if num % 2 == 0:\n",
    "        even_nums.append(num)\n",
    "\n",
    "print(\"sum of all even number from 50 to 100 is\",sum(even_nums))\n",
    "print(even_nums)"
   ]
  },
  {
   "cell_type": "code",
   "execution_count": null,
   "id": "c0e5a4b1",
   "metadata": {},
   "outputs": [
    {
     "name": "stdout",
     "output_type": "stream",
     "text": [
      "sum of all even number from 50 to 100 is 1800\n",
      "[52, 54, 56, 58, 60, 62, 64, 66, 68, 70, 72, 74, 76, 78, 80, 82, 84, 86, 88, 90, 92, 94, 96, 98]\n"
     ]
    }
   ],
   "source": [
    "# if 50 and 100 exclusive\n",
    "\n",
    "even_nums = []\n",
    "for num in range(51,100):\n",
    "    if num % 2 == 0:\n",
    "        even_nums.append(num)\n",
    "\n",
    "print(\"sum of all even number from 50 to 100 is\",sum(even_nums))\n",
    "print(even_nums)"
   ]
  },
  {
   "cell_type": "markdown",
   "id": "fa43cedb",
   "metadata": {},
   "source": [
    "## write a loop to count how many upercase letters are in 'HelloPYTHON'"
   ]
  },
  {
   "cell_type": "code",
   "execution_count": 13,
   "id": "d5715886",
   "metadata": {},
   "outputs": [
    {
     "name": "stdout",
     "output_type": "stream",
     "text": [
      "7\n"
     ]
    }
   ],
   "source": [
    "word = 'HelloPYTHON'\n",
    "\n",
    "count = 0\n",
    "for char in word:\n",
    "    if char.isupper():\n",
    "        count = count + 1\n",
    "\n",
    "print(count)"
   ]
  }
 ],
 "metadata": {
  "kernelspec": {
   "display_name": "Python 3",
   "language": "python",
   "name": "python3"
  },
  "language_info": {
   "codemirror_mode": {
    "name": "ipython",
    "version": 3
   },
   "file_extension": ".py",
   "mimetype": "text/x-python",
   "name": "python",
   "nbconvert_exporter": "python",
   "pygments_lexer": "ipython3",
   "version": "3.13.7"
  }
 },
 "nbformat": 4,
 "nbformat_minor": 5
}
