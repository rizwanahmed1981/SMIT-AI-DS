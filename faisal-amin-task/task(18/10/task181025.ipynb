{
 "cells": [
  {
   "cell_type": "markdown",
   "id": "11dd6963",
   "metadata": {},
   "source": [
    "Q1. Grocery Store System\n",
    "You are building a grocery store app. You have a list of available items:\n",
    "items = ['milk', 'bread', 'butter', 'eggs', 'cheese', 'apple', 'banana']\n",
    "- Ask the user to enter an item they want to buy.\n",
    "- Check if the item is available.\n",
    "- If yes, remove it from the list and show the updated list.\n",
    "- If not, display a message: \"Sorry, item not available.\""
   ]
  },
  {
   "cell_type": "code",
   "execution_count": 4,
   "id": "fc8a9b72",
   "metadata": {},
   "outputs": [
    {
     "name": "stdout",
     "output_type": "stream",
     "text": [
      "Sorry, item not available.\n"
     ]
    }
   ],
   "source": [
    "\n",
    "items = ['milk', 'bread', 'butter', 'eggs', 'cheese', 'apple', 'banana']\n",
    "\n",
    "user_input = input(\"Enter the item name you want to buy: \")\n",
    "\n",
    "if user_input in items:\n",
    "    items.remove(user_input)\n",
    "    print(items)\n",
    "\n",
    "else:\n",
    "    print(\"Sorry, item not available.\")"
   ]
  },
  {
   "cell_type": "markdown",
   "id": "6fc8d48a",
   "metadata": {},
   "source": [
    "Q2. Student Attendance Tracker\n",
    "You are creating a simple attendance tracker.\n",
    "students = ['Ali', 'Sara', 'Hina', 'Bilal', 'Ahmed']\n",
    "- Ask the teacher to enter the name of a student who is absent.\n",
    "- Remove that student from the list and print the list of present students.\n",
    "- Also, print the total number of present students.\n"
   ]
  },
  {
   "cell_type": "code",
   "execution_count": 8,
   "id": "9f53e326",
   "metadata": {},
   "outputs": [
    {
     "name": "stdout",
     "output_type": "stream",
     "text": [
      "Present students are ['Sara', 'Hina', 'Bilal', 'Ahmed']\n",
      "Total number of present students: 4\n"
     ]
    }
   ],
   "source": [
    "students = ['Ali', 'Sara', 'Hina', 'Bilal', 'Ahmed']\n",
    "\n",
    "absent_student = input(\"Enter the name of absent student: \").title()\n",
    "\n",
    "if absent_student in students:\n",
    "    students.remove(absent_student)\n",
    "    print(\"Present students are\", students)\n",
    "    print(\"Total number of present students:\", len(students))"
   ]
  },
  {
   "cell_type": "markdown",
   "id": "8d8faea6",
   "metadata": {},
   "source": [
    "Q3. Shopping Cart Total\n",
    "You are designing an online shopping cart.\n",
    "cart = [1200, 450, 890, 300, 1500]\n",
    "- Print the total amount to be paid.\n",
    "- Print the most expensive item.\n",
    "- Remove the most expensive item and print the new total.\n"
   ]
  },
  {
   "cell_type": "code",
   "execution_count": 14,
   "id": "cfe89b45",
   "metadata": {},
   "outputs": [
    {
     "name": "stdout",
     "output_type": "stream",
     "text": [
      "Total bill Rs. 4340\n",
      "Bill after removing expensive item Rs. 2840\n"
     ]
    }
   ],
   "source": [
    "cart = [1200, 450, 890, 300, 1500]\n",
    "\n",
    "print(\"Total bill Rs.\",sum(cart))\n",
    "cart.sort()\n",
    "cart.remove(cart[-1])\n",
    "print(\"Bill after removing expensive item Rs.\",sum(cart))"
   ]
  },
  {
   "cell_type": "markdown",
   "id": "df262049",
   "metadata": {},
   "source": [
    "Q4. Social Media Friends List\n",
    "You are building a simple social media app.\n",
    "friends = ['Ali', 'Sara', 'Hina', 'Ahmed', 'Bilal', 'Zara']\n",
    "- Ask the user to enter the name of a person to search.\n",
    "- If the person is in the list, print \"Friend found!\".\n",
    "- If not, ask if they want to add them. If yes, add them and print the updated list."
   ]
  },
  {
   "cell_type": "code",
   "execution_count": 18,
   "id": "f9cdc6fd",
   "metadata": {},
   "outputs": [
    {
     "name": "stdout",
     "output_type": "stream",
     "text": [
      "Rizwan is not in Friends list\n",
      "Do you want to add this friend in your friends list\n",
      "Rizwan not added in your friends circle\n",
      "your friends are ['Ali', 'Sara', 'Hina', 'Ahmed', 'Bilal', 'Zara']\n"
     ]
    }
   ],
   "source": [
    "friends = ['Ali', 'Sara', 'Hina', 'Ahmed', 'Bilal', 'Zara']\n",
    "\n",
    "search_friend = input(\"Enter the name of friend: \").title()\n",
    "\n",
    "if search_friend in friends:\n",
    "    print(\"Friend Found\")\n",
    "elif search_friend not in friends:\n",
    "    print(f\"{search_friend} is not in Friends list\")\n",
    "    print(\"Do you want to add this friend in your friends list\")\n",
    "    conscent = input(\" Yes/No: \").lower()\n",
    "    if conscent == \"yes\":\n",
    "        friends.append(search_friend)\n",
    "        print(friends)\n",
    "    else:\n",
    "        print(f\"{search_friend} not added in your friends circle\")\n",
    "        print(\"your friends are\", friends)"
   ]
  },
  {
   "cell_type": "markdown",
   "id": "8e841953",
   "metadata": {},
   "source": [
    "Q5. Library Book System\n",
    "You are managing a small library system.\n",
    "books = ['Python Basics', 'AI for Beginners', 'Data Science 101', 'Machine Learning Intro']\n",
    "- Ask the user for a book title to borrow.\n",
    "- If available, remove it from the list and show the remaining books.\n",
    "- If not available, show a message \"Book not available.\""
   ]
  },
  {
   "cell_type": "code",
   "execution_count": 20,
   "id": "7c36d1e6",
   "metadata": {},
   "outputs": [
    {
     "name": "stdout",
     "output_type": "stream",
     "text": [
      "['AI for Beginners', 'Data Science 101', 'Machine Learning Intro']\n"
     ]
    }
   ],
   "source": [
    "books = ['Python Basics', 'AI for Beginners', 'Data Science 101', 'Machine Learning Intro']\n",
    "\n",
    "book_to_borrow = input(\"Enter the book name you want to borrow: \").title()\n",
    "\n",
    "if book_to_borrow in books:\n",
    "    books.remove(book_to_borrow)\n",
    "    print(books)\n",
    "else:\n",
    "    print(f\"{book_to_borrow} not available in library\")"
   ]
  },
  {
   "cell_type": "markdown",
   "id": "1368044f",
   "metadata": {},
   "source": [
    "Q6. Temperature Analysis\n",
    "You collected daily temperatures for a week:\n",
    "temperatures = [32, 30, 35, 33, 31, 29, 34]\n",
    "- Print the highest and lowest temperature.\n",
    "- Sort the list and print it.\n",
    "- Remove the highest and lowest temperature and print the average of the remaining days."
   ]
  },
  {
   "cell_type": "code",
   "execution_count": 27,
   "id": "1aa45f5f",
   "metadata": {},
   "outputs": [
    {
     "name": "stdout",
     "output_type": "stream",
     "text": [
      "The highest temperature is 35 and the lowest temperature is 29\n",
      "Avarage temperature of remaining days: 32.0 \n"
     ]
    }
   ],
   "source": [
    "temperatures = [32, 30, 35, 33, 31, 29, 34]\n",
    "\n",
    "temperatures.sort()\n",
    "print(f\"The highest temperature is {temperatures[-1]} and the lowest temperature is {temperatures[0]}\")\n",
    "temperatures.remove(temperatures[0])\n",
    "temperatures.remove(temperatures[-1])\n",
    "print(f\"Avarage temperature of remaining days: {sum(temperatures)/len(temperatures)} \")"
   ]
  },
  {
   "cell_type": "markdown",
   "id": "b90bd03d",
   "metadata": {},
   "source": [
    "Q7. Movie Night Organizer\n",
    "You’re organizing a movie night.\n",
    "movies = ['Inception', 'Interstellar', 'Avengers', 'Joker', 'Titanic']\n",
    "- Ask each friend to suggest a movie and add it to the list.\n",
    "- After 3 suggestions, print the final watchlist.\n",
    "- Print the total number of movies."
   ]
  },
  {
   "cell_type": "code",
   "execution_count": 26,
   "id": "04b9e366",
   "metadata": {},
   "outputs": [
    {
     "name": "stdout",
     "output_type": "stream",
     "text": [
      "Total number of movies in movie night 8\n"
     ]
    }
   ],
   "source": [
    "movies = ['Inception', 'Interstellar', 'Avengers', 'Joker', 'Titanic']\n",
    "\n",
    "count = 0\n",
    "\n",
    "while count < 3:\n",
    "    friend_suggestion = input(\"suggest a movie name for the movie night: \").title()\n",
    "    movies.append(friend_suggestion)\n",
    "    count = count + 1\n",
    "\n",
    "print(\"Total number of movies in movie night\", len(movies))"
   ]
  },
  {
   "cell_type": "markdown",
   "id": "b41a7c35",
   "metadata": {},
   "source": [
    "Q8. Marks Analysis System\n",
    "You collected marks of students in a test:\n",
    "marks = [78, 56, 89, 92, 67, 88, 76]\n",
    "- Print how many students scored above 80.\n",
    "- Print the average marks.\n",
    "- Add two new marks to the list and print the updated average."
   ]
  },
  {
   "cell_type": "code",
   "execution_count": 31,
   "id": "ed74f5e2",
   "metadata": {},
   "outputs": [
    {
     "name": "stdout",
     "output_type": "stream",
     "text": [
      "Number of students who got above 80 3\n",
      "Avarege marks obtained by students 78\n",
      "Avarege marks obtained by students aftre two new students marks 75\n"
     ]
    }
   ],
   "source": [
    "marks = [78, 56, 89, 92, 67, 88, 76]\n",
    "\n",
    "count = 0\n",
    "\n",
    "for score in marks:\n",
    "    if score > 80:\n",
    "        count = count + 1\n",
    "\n",
    "print(\"Number of students who got above 80\",count)\n",
    "print(\"Avarege marks obtained by students\",sum(marks)//len(marks))\n",
    "\n",
    "marks.append(58)\n",
    "marks.append(77)\n",
    "\n",
    "print(\"Avarege marks obtained by students aftre two new students marks\",sum(marks)//len(marks))\n"
   ]
  }
 ],
 "metadata": {
  "kernelspec": {
   "display_name": "Python 3",
   "language": "python",
   "name": "python3"
  },
  "language_info": {
   "codemirror_mode": {
    "name": "ipython",
    "version": 3
   },
   "file_extension": ".py",
   "mimetype": "text/x-python",
   "name": "python",
   "nbconvert_exporter": "python",
   "pygments_lexer": "ipython3",
   "version": "3.13.7"
  }
 },
 "nbformat": 4,
 "nbformat_minor": 5
}
