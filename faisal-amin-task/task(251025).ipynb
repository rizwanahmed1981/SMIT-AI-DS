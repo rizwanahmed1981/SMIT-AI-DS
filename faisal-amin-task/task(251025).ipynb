{
 "cells": [
  {
   "cell_type": "markdown",
   "id": "456b4a6c",
   "metadata": {},
   "source": [
    "Q1. Grocery Store System \n",
    "You are building a grocery store app. You have a list of available items: items = ['milk', 'bread', 'butter', 'eggs', 'cheese', 'apple', 'banana'] \n",
    "- Ask the user to enter an item they want to buy. \n",
    "- Check if the item is available. \n",
    "- If yes, remove it from the list and show the updated list. \n",
    "- If not, display a message: \"Sorry, item not available.\" \n"
   ]
  },
  {
   "cell_type": "code",
   "execution_count": 4,
   "id": "af7be615",
   "metadata": {},
   "outputs": [
    {
     "name": "stdout",
     "output_type": "stream",
     "text": [
      "Sory Ghee not available in store\n"
     ]
    }
   ],
   "source": [
    "items = ['milk', 'bread', 'butter', 'eggs', 'cheese', 'apple', 'banana']\n",
    "\n",
    "def grocery_store():\n",
    "    user_input = input(\"enter thr item you want to buy: \").lower()\n",
    "    if user_input in items:\n",
    "        items.remove(user_input)\n",
    "        print(items)\n",
    "    else:\n",
    "        print(f\"Sory {user_input.title()} not available in store\")\n",
    "    \n",
    "grocery_store()"
   ]
  },
  {
   "cell_type": "markdown",
   "id": "58df6387",
   "metadata": {},
   "source": [
    "Q2. Student Attendance Tracker \n",
    "You are creating a simple attendance tracker. \n",
    "students = ['Ali', 'Sara', 'Hina', 'Bilal', 'Ahmed'] \n",
    "- Ask the teacher to enter the name of a student who is absent. \n",
    "- Remove that student from the list and print the list of present students. - Also, print the total number of present students. \n"
   ]
  },
  {
   "cell_type": "code",
   "execution_count": 6,
   "id": "630beeff",
   "metadata": {},
   "outputs": [
    {
     "name": "stdout",
     "output_type": "stream",
     "text": [
      "['Ali', 'Hina', 'Bilal', 'Ahmed']\n"
     ]
    }
   ],
   "source": [
    "students = ['Ali', 'Sara', 'Hina', 'Bilal', 'Ahmed']\n",
    "\n",
    "def attendence_check():\n",
    "    teacher_input=input(\"Enter the name of the student who is abscent: \").title()\n",
    "    students.remove(teacher_input)\n",
    "    print(students)\n",
    "\n",
    "attendence_check()"
   ]
  },
  {
   "cell_type": "markdown",
   "id": "94b932f5",
   "metadata": {},
   "source": []
  }
 ],
 "metadata": {
  "kernelspec": {
   "display_name": "Python 3",
   "language": "python",
   "name": "python3"
  },
  "language_info": {
   "codemirror_mode": {
    "name": "ipython",
    "version": 3
   },
   "file_extension": ".py",
   "mimetype": "text/x-python",
   "name": "python",
   "nbconvert_exporter": "python",
   "pygments_lexer": "ipython3",
   "version": "3.13.7"
  }
 },
 "nbformat": 4,
 "nbformat_minor": 5
}
