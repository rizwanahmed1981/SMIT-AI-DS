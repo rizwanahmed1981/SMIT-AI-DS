{
 "cells": [
  {
   "cell_type": "markdown",
   "id": "91f4ca8c",
   "metadata": {},
   "source": [
    "### Question 1: Student Result Management System (Marks: 35) \n",
    "Problem Statement: \n",
    "1) Write a Python program to manage and analyze student marks. \n",
    "-- Requirements: \n",
    "\n",
    "1) Input the total number of students. \n",
    "2) For each student, take their name and marks (out of 100). \n",
    "3) Store names and marks in lists. \n",
    "4) After taking all inputs: display all students with their marks, find and display highest marks, lowest marks, and \n",
    "2) average marks. \n",
    "5) Assign grade using if-else conditions as follows: Marks ≥ 80 → Grade A, Marks 60–79 → Grade B, Marks 40–59 → Grade C, Marks < 40 → Grade F. \n",
    "\n",
    "3) Sample Output: \n",
    "Enter number of students: 3 \n",
    "Enter name of student 1: Ali Enter marks of Ali: 85 \n",
    "Enter name of student 2: Sara Enter marks of Sara: 72 \n",
    "Enter name of student 3: Hamza Enter marks of Hamza: 39 \n",
    "--- Student Results \n",
    "--- Ali - 85 - Grade A Sara - 72 - Grade B Hamza - 39 - Grade F Highest Marks: 85 Lowest Marks: 39 Average Marks: 65.3 \n"
   ]
  },
  {
   "cell_type": "code",
   "execution_count": 45,
   "id": "605fe871",
   "metadata": {},
   "outputs": [],
   "source": [
    "def result_management_syetem():\n",
    "    student_names = []\n",
    "    student_marks = []\n",
    "    grades = []\n",
    "    \n",
    "\n",
    "    while True:\n",
    "        std_name = input(\"Enter name of the Student or Enter q to exit: \").lower()\n",
    "        if std_name == \"q\":\n",
    "            break\n",
    "        else:\n",
    "            std_marks = float(input(\"Enter total marks of the Student: \"))\n",
    "            if std_marks > 100 or std_marks < 0:\n",
    "                print(\"invalid input\")\n",
    "                # break\n",
    "            else:\n",
    "                student_names.append(std_name.title())\n",
    "                student_marks.append(std_marks)\n",
    "\n",
    "    # return student_names, student_marks\n",
    "    if student_names:\n",
    "        for marks in student_marks:\n",
    "            if 80 <= marks <= 100:\n",
    "                grades.append(\"A\")\n",
    "            elif 60 <= marks <= 79:\n",
    "                grades.append(\"B\")\n",
    "            elif 40 <= marks <= 59:\n",
    "                grades.append(\"C\")\n",
    "            else:\n",
    "                grades.append(\"F\")\n",
    "        i = 0\n",
    "        for std in student_names:\n",
    "            print(f\"{student_names[i]} {student_marks[i]} Got Grade {grades[i]}\")\n",
    "            i += 1        \n",
    "\n",
    "        print(\"Highest marks obtained\" ,max(student_marks))\n",
    "        print(\"Lowest marks obtained\" ,min(student_marks))\n",
    "        print(\"Avarage marks obtained\" ,sum(student_marks)/ len(student_marks))"
   ]
  },
  {
   "cell_type": "code",
   "execution_count": 46,
   "id": "a7eddcab",
   "metadata": {},
   "outputs": [
    {
     "name": "stdout",
     "output_type": "stream",
     "text": [
      "Ali 79.0 Got Grade B\n",
      "Nadeem 59.0 Got Grade C\n",
      "Ramla 89.0 Got Grade A\n",
      "Rizwan 98.0 Got Grade A\n",
      "Abdull  Basit 81.0 Got Grade A\n",
      "Highest marks obtained 98.0\n",
      "Lowest marks obtained 59.0\n",
      "Avarage marks obtained 81.2\n"
     ]
    }
   ],
   "source": [
    "result_management_syetem()"
   ]
  }
 ],
 "metadata": {
  "kernelspec": {
   "display_name": "Python 3",
   "language": "python",
   "name": "python3"
  },
  "language_info": {
   "codemirror_mode": {
    "name": "ipython",
    "version": 3
   },
   "file_extension": ".py",
   "mimetype": "text/x-python",
   "name": "python",
   "nbconvert_exporter": "python",
   "pygments_lexer": "ipython3",
   "version": "3.13.7"
  }
 },
 "nbformat": 4,
 "nbformat_minor": 5
}
