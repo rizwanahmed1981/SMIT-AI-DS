{
 "cells": [
  {
   "cell_type": "markdown",
   "id": "91f4ca8c",
   "metadata": {},
   "source": [
    "### Question 1: Student Result Management System (Marks: 35) \n",
    "Problem Statement: \n",
    "1) Write a Python program to manage and analyze student marks. \n",
    "-- Requirements: \n",
    "\n",
    "1) Input the total number of students. \n",
    "2) For each student, take their name and marks (out of 100). \n",
    "3) Store names and marks in lists. \n",
    "4) After taking all inputs: display all students with their marks, find and display highest marks, lowest marks, and \n",
    "2) average marks. \n",
    "5) Assign grade using if-else conditions as follows: Marks ≥ 80 → Grade A, Marks 60–79 → Grade B, Marks 40–59 → Grade C, Marks < 40 → Grade F. \n",
    "\n",
    "3) Sample Output: \n",
    "Enter number of students: 3 \n",
    "Enter name of student 1: Ali Enter marks of Ali: 85 \n",
    "Enter name of student 2: Sara Enter marks of Sara: 72 \n",
    "Enter name of student 3: Hamza Enter marks of Hamza: 39 \n",
    "--- Student Results \n",
    "--- Ali - 85 - Grade A Sara - 72 - Grade B Hamza - 39 - Grade F Highest Marks: 85 Lowest Marks: 39 Average Marks: 65.3 \n"
   ]
  },
  {
   "cell_type": "code",
   "execution_count": 45,
   "id": "605fe871",
   "metadata": {},
   "outputs": [],
   "source": [
    "def result_management_syetem():\n",
    "    student_names = []\n",
    "    student_marks = []\n",
    "    grades = []\n",
    "    \n",
    "\n",
    "    while True:\n",
    "        std_name = input(\"Enter name of the Student or Enter q to exit: \").lower()\n",
    "        if std_name == \"q\":\n",
    "            break\n",
    "        else:\n",
    "            std_marks = float(input(\"Enter total marks of the Student: \"))\n",
    "            if std_marks > 100 or std_marks < 0:\n",
    "                print(\"invalid input\")\n",
    "                # break\n",
    "            else:\n",
    "                student_names.append(std_name.title())\n",
    "                student_marks.append(std_marks)\n",
    "\n",
    "    # return student_names, student_marks\n",
    "    if student_names:\n",
    "        for marks in student_marks:\n",
    "            if 80 <= marks <= 100:\n",
    "                grades.append(\"A\")\n",
    "            elif 60 <= marks <= 79:\n",
    "                grades.append(\"B\")\n",
    "            elif 40 <= marks <= 59:\n",
    "                grades.append(\"C\")\n",
    "            else:\n",
    "                grades.append(\"F\")\n",
    "        i = 0\n",
    "        for std in student_names:\n",
    "            print(f\"{student_names[i]} {student_marks[i]} Got Grade {grades[i]}\")\n",
    "            i += 1        \n",
    "\n",
    "        print(\"Highest marks obtained\" ,max(student_marks))\n",
    "        print(\"Lowest marks obtained\" ,min(student_marks))\n",
    "        print(\"Avarage marks obtained\" ,sum(student_marks)/ len(student_marks))"
   ]
  },
  {
   "cell_type": "code",
   "execution_count": 46,
   "id": "a7eddcab",
   "metadata": {},
   "outputs": [
    {
     "name": "stdout",
     "output_type": "stream",
     "text": [
      "Ali 79.0 Got Grade B\n",
      "Nadeem 59.0 Got Grade C\n",
      "Ramla 89.0 Got Grade A\n",
      "Rizwan 98.0 Got Grade A\n",
      "Abdull  Basit 81.0 Got Grade A\n",
      "Highest marks obtained 98.0\n",
      "Lowest marks obtained 59.0\n",
      "Avarage marks obtained 81.2\n"
     ]
    }
   ],
   "source": [
    "result_management_syetem()"
   ]
  },
  {
   "cell_type": "markdown",
   "id": "118e0bc0",
   "metadata": {},
   "source": [
    "### Question 2: Grocery Billing System (Marks: 35) \n",
    "##### Problem Statement: \n",
    "1) Design a Python program to calculate a simple grocery bill for a customer. \n",
    "Requirements: \n",
    "2) Store 5 grocery items and their prices using tuples. \n",
    "3) Display all available items with their prices. \n",
    "4) Ask the user how many items they want to buy. \n",
    "5) For each selected item: input the item name and quantity, use a for loop to calculate subtotal (price × quantity). \n",
    "6) After all items are entered: display a bill summary showing each item,\n",
    "-- its quantity, \n",
    "-- and subtotal; \n",
    "-- calculate and display the total bill;\n",
    "-- apply a 10% discount if total bill > 1000;\n",
    "-- display the final payable amount. \n",
    "Sample Output: \n",
    "--- Available Items --- Apple - 200 Banana - 60 Rice - 150 Milk - 120 Bread - 100 How many different items do you want to buy? 2 Enter item name: Rice Enter quantity: 3 Enter item name: Milk Enter quantity: 2 --- Bill Summary --- Rice (3) = 450 Milk (2) = 240 Total Bill = 690 No Discount Applied Final Payable = 690\n",
    "\n"
   ]
  },
  {
   "cell_type": "code",
   "execution_count": 34,
   "id": "2f2f5cfa",
   "metadata": {},
   "outputs": [],
   "source": [
    "def bill_maker():\n",
    "    grocery_items = (\"Tea\", \"Milk\", \"Suggar\", \"Soap\", \"Oil\")\n",
    "    items_prices = (199, 220, 185, 120, 550)\n",
    "\n",
    "    print(\"List of available items in store\")\n",
    "    print(grocery_items)\n",
    "    # bill variables\n",
    "    cart = []\n",
    "    gross_bill = 0\n",
    "\n",
    "    # asking user if he/she wants to buy.\n",
    "    flag = True\n",
    "    while flag:\n",
    "        item_total = 0\n",
    "\n",
    "        purchases = input(\"which item do you want to buy or Q to Exit: \").title()\n",
    "        \n",
    "        # checking if buyer wants to continue or not\n",
    "        if purchases == \"Q\":\n",
    "            print(\"Thank you for visiting our store\")\n",
    "            flag = False\n",
    "        \n",
    "        # if user adds items to cart\n",
    "        else:\n",
    "            if purchases not in grocery_items:\n",
    "                print(\"Only displayed items are available\")\n",
    "                print(\"please select from the list\")\n",
    "                print(grocery_items)\n",
    "\n",
    "            elif purchases in grocery_items:\n",
    "                print(f\"{purchases} added to cart\")\n",
    "                ind = grocery_items.index(purchases)\n",
    "                price = items_prices[ind]\n",
    "                try:\n",
    "                    quantity = int(input(\"how many of this item do you want to buy: \"))\n",
    "                    item_total = price * quantity\n",
    "                    cart.append(f\"{purchases} X {quantity}({price}) = {item_total}\")\n",
    "                    print(f\"{purchases} ({quantity}) = {item_total}\")\n",
    "                    gross_bill += item_total\n",
    "                except Exception as e:\n",
    "                    print(e)    \n",
    "    # applying discount if criteria meets (purchases more then 999)\n",
    "    if gross_bill >= 1000:\n",
    "        print(\"Items You Purchased\", cart)\n",
    "        print(\"Your Gross bill Rs.\", gross_bill)\n",
    "        final_bill = gross_bill * 0.9\n",
    "        print(f\"After 10% discount your final bill is Rs. {final_bill}\")\n",
    "\n",
    "    else:\n",
    "        print(\"Items You Purchased\", cart)\n",
    "        print(\"Your Gross bill Rs.\", gross_bill)\n",
    "        print(f\"No discount is available your final bill is Rs. {gross_bill}\")\n",
    "\n",
    "\n",
    "\n"
   ]
  },
  {
   "cell_type": "code",
   "execution_count": 36,
   "id": "63f8b3aa",
   "metadata": {},
   "outputs": [
    {
     "name": "stdout",
     "output_type": "stream",
     "text": [
      "List of available items in store\n",
      "('Tea', 'Milk', 'Suggar', 'Soap', 'Oil')\n",
      "Milk added to cart\n",
      "Milk (5) = 1100\n",
      "Soap added to cart\n",
      "invalid literal for int() with base 10: ''\n",
      "Oil added to cart\n",
      "Oil (2) = 1100\n",
      "Thank you for visiting our store\n",
      "Items You Purchased ['Milk X 5(220) = 1100', 'Oil X 2(550) = 1100']\n",
      "Your Gross bill Rs. 2200\n",
      "After 10% discount your final bill is Rs. 1980.0\n"
     ]
    }
   ],
   "source": [
    "bill_maker()"
   ]
  },
  {
   "cell_type": "markdown",
   "id": "42f302d3",
   "metadata": {},
   "source": [
    "### Question 3: Number Guessing Game (Marks: 30) \n",
    "##### Problem Statement: \n",
    "-- Create a simple number guessing game using basic programming logic. \n",
    "--- Requirements: \n",
    "1) Store a secret number (for example, secret = 7) in a variable. \n",
    "2) Give the user 5 chances to guess the number. \n",
    "3) For each guess: if correct, print 'Correct Guess!' and stop the loop; if less than secret, print 'Too Low!'; if greater, print 'Too High!'. \n",
    "4) If all chances are used without guessing correctly, display 'Game Over! The number was 7.' Sample Output: \n",
    "Guess the number (between 1–10): 3 Too Low! Guess the number (between 1–10): 8 Too High! Guess the number (between 1–10): 7 Correct Guess! \n"
   ]
  },
  {
   "cell_type": "code",
   "execution_count": 10,
   "id": "08c7a000",
   "metadata": {},
   "outputs": [],
   "source": [
    "def guess_number():\n",
    "    number = 7\n",
    "\n",
    "    count = 0\n",
    "\n",
    "    while count <= 5:\n",
    "        if count == 5:\n",
    "            print(f\"Game Over! You exceeded MAx Turns {count}\")\n",
    "            break\n",
    "        else:\n",
    "            user_guess = int(input(\"guess the number between 1 - 10: \"))\n",
    "            count += 1\n",
    "            \n",
    "            \n",
    "            if user_guess < number:\n",
    "                print(\"your guess is too low\")\n",
    "                print(f\"Remaining Attempts {5-count}\")\n",
    "            elif user_guess > number:\n",
    "                print(\"your guess is too high\")\n",
    "                print(f\"Remaining Attempts {5-count}\")\n",
    "\n",
    "            \n",
    "\n",
    "            else:\n",
    "                \n",
    "                print(\"Correct Guess!\")\n",
    "                print(f\"You Won in Count : {count}\")\n",
    "                break    \n",
    "\n",
    "        "
   ]
  },
  {
   "cell_type": "code",
   "execution_count": 14,
   "id": "97ae10e8",
   "metadata": {},
   "outputs": [
    {
     "name": "stdout",
     "output_type": "stream",
     "text": [
      "your guess is too low\n",
      "Remaining Attempts 4\n",
      "your guess is too low\n",
      "Remaining Attempts 3\n",
      "your guess is too high\n",
      "Remaining Attempts 2\n",
      "your guess is too low\n",
      "Remaining Attempts 1\n",
      "Correct Guess!\n",
      "You Won in Count : 5\n"
     ]
    }
   ],
   "source": [
    "guess_number()"
   ]
  }
 ],
 "metadata": {
  "kernelspec": {
   "display_name": "Python 3",
   "language": "python",
   "name": "python3"
  },
  "language_info": {
   "codemirror_mode": {
    "name": "ipython",
    "version": 3
   },
   "file_extension": ".py",
   "mimetype": "text/x-python",
   "name": "python",
   "nbconvert_exporter": "python",
   "pygments_lexer": "ipython3",
   "version": "3.13.7"
  }
 },
 "nbformat": 4,
 "nbformat_minor": 5
}
