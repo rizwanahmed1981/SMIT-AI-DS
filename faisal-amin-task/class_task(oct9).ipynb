{
 "cells": [
  {
   "cell_type": "markdown",
   "id": "f8c9fda2",
   "metadata": {},
   "source": [
    "### Student Task 1:\n",
    "- Create a list of 6 countries and print the third one.\n",
    "- Example: countries = ['A', 'B', ...]\n"
   ]
  },
  {
   "cell_type": "code",
   "execution_count": null,
   "id": "f4520bd4",
   "metadata": {},
   "outputs": [
    {
     "name": "stdout",
     "output_type": "stream",
     "text": [
      "Third Country in this List is Bangladesh\n"
     ]
    }
   ],
   "source": [
    "country_names = ['Pakistan', 'India', 'Bangladesh', 'China', 'Iran', 'South Korea']\n",
    "\n",
    "country_names[2]\n",
    "# or comment the first one and run the bellow\n",
    "print(\"Third Country in this List is\", country_names[2])"
   ]
  },
  {
   "cell_type": "markdown",
   "id": "c642843c",
   "metadata": {},
   "source": [
    "### Student Task 2:\n",
    "- Create a list of 8 numbers and print all numbers from index 2 to 6 (inclusive of start, exclusive of end as usual)."
   ]
  },
  {
   "cell_type": "code",
   "execution_count": 4,
   "id": "b8fc9627",
   "metadata": {},
   "outputs": [
    {
     "data": {
      "text/plain": [
       "[3, 4, 5, 6, 7]"
      ]
     },
     "execution_count": 4,
     "metadata": {},
     "output_type": "execute_result"
    }
   ],
   "source": [
    "num_list = [1,2,3,4,5,6,7,8]\n",
    "\n",
    "num_list[2:7]"
   ]
  },
  {
   "cell_type": "markdown",
   "id": "4eeb4e41",
   "metadata": {},
   "source": [
    "### Student Task 3:\n",
    "- Store 5 favorite movies in a list and change the last one to a new movie.\n"
   ]
  },
  {
   "cell_type": "code",
   "execution_count": 5,
   "id": "4b652047",
   "metadata": {},
   "outputs": [
    {
     "data": {
      "text/plain": [
       "['John Vick', 'Animal', 'resident Evil', 'Graphic Desire', 'Last Blood']"
      ]
     },
     "execution_count": 5,
     "metadata": {},
     "output_type": "execute_result"
    }
   ],
   "source": [
    "fav_movies = [\"John Vick\", \"Animal\", \"resident Evil\", \"Graphic Desire\", \"final Destination\"]\n",
    "\n",
    "fav_movies[4] = \"Last Blood\"\n",
    "\n",
    "fav_movies"
   ]
  },
  {
   "cell_type": "markdown",
   "id": "508c2154",
   "metadata": {},
   "source": [
    "### Student Task 4:\n",
    "- Create a list of 7 temperatures and print the last two using negative indexing."
   ]
  },
  {
   "cell_type": "code",
   "execution_count": 8,
   "id": "efc8101e",
   "metadata": {},
   "outputs": [
    {
     "data": {
      "text/plain": [
       "[0, 33]"
      ]
     },
     "execution_count": 8,
     "metadata": {},
     "output_type": "execute_result"
    }
   ],
   "source": [
    "temp_in_centigrade = [25, 45, 56, 12, -1, -12, 0, 33]\n",
    "\n",
    "# print(temp_in_centigrade[-1])\n",
    "# print(temp_in_centigrade[-2])\n",
    "\n",
    "temp_in_centigrade[-2::]"
   ]
  },
  {
   "cell_type": "markdown",
   "id": "141ccdd9",
   "metadata": {},
   "source": [
    "### Student Task 5:\n",
    "- Make a nested list containing 3 lists and access the second element of the second list."
   ]
  },
  {
   "cell_type": "code",
   "execution_count": 9,
   "id": "5fd926e3",
   "metadata": {},
   "outputs": [
    {
     "data": {
      "text/plain": [
       "'Apple'"
      ]
     },
     "execution_count": 9,
     "metadata": {},
     "output_type": "execute_result"
    }
   ],
   "source": [
    "nested_list = [['Rizwan Ahmed', 'Affan Ahmed', ], ['Mango', 'Apple', 'Banana'], [1,2,3,4,5,6]]\n",
    "\n",
    "\n",
    "nested_list[1][1]"
   ]
  }
 ],
 "metadata": {
  "kernelspec": {
   "display_name": "base",
   "language": "python",
   "name": "python3"
  },
  "language_info": {
   "codemirror_mode": {
    "name": "ipython",
    "version": 3
   },
   "file_extension": ".py",
   "mimetype": "text/x-python",
   "name": "python",
   "nbconvert_exporter": "python",
   "pygments_lexer": "ipython3",
   "version": "3.11.5"
  }
 },
 "nbformat": 4,
 "nbformat_minor": 5
}
