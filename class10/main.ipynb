{
 "cells": [
  {
   "cell_type": "markdown",
   "id": "bb60782d",
   "metadata": {},
   "source": [
    "# Dict"
   ]
  },
  {
   "cell_type": "code",
   "execution_count": 1,
   "id": "c9a34566",
   "metadata": {},
   "outputs": [],
   "source": [
    "student_names = {\"st01\": \"Eizwan Ahmed\", \"st02\": \"Ahmed Ali\", \"st03\": \"Saimaa Khan\", \"st04\": \"Shahid Ahmed\"}"
   ]
  },
  {
   "cell_type": "code",
   "execution_count": 2,
   "id": "ddc9782b",
   "metadata": {},
   "outputs": [
    {
     "data": {
      "text/plain": [
       "{'st01': 'Eizwan Ahmed',\n",
       " 'st02': 'Ahmed Ali',\n",
       " 'st03': 'Saimaa Khan',\n",
       " 'st04': 'Shahid Ahmed'}"
      ]
     },
     "execution_count": 2,
     "metadata": {},
     "output_type": "execute_result"
    }
   ],
   "source": [
    "student_names\n"
   ]
  },
  {
   "cell_type": "code",
   "execution_count": 3,
   "id": "e0917a3a",
   "metadata": {},
   "outputs": [
    {
     "data": {
      "text/plain": [
       "'Saimaa Khan'"
      ]
     },
     "execution_count": 3,
     "metadata": {},
     "output_type": "execute_result"
    }
   ],
   "source": [
    "student_names[\"st03\"]"
   ]
  },
  {
   "cell_type": "code",
   "execution_count": 4,
   "id": "fa5be94c",
   "metadata": {},
   "outputs": [
    {
     "data": {
      "text/plain": [
       "'Ahmed Ali'"
      ]
     },
     "execution_count": 4,
     "metadata": {},
     "output_type": "execute_result"
    }
   ],
   "source": [
    "student_names.pop(\"st02\")"
   ]
  },
  {
   "cell_type": "code",
   "execution_count": 10,
   "id": "b541902a",
   "metadata": {},
   "outputs": [
    {
     "data": {
      "text/plain": [
       "{'st01': 'Eizwan Ahmed', 'st03': 'Saimaa Khan', 'st04': 'Shahid Ahmed'}"
      ]
     },
     "execution_count": 10,
     "metadata": {},
     "output_type": "execute_result"
    }
   ],
   "source": [
    "student_names"
   ]
  },
  {
   "cell_type": "code",
   "execution_count": 12,
   "id": "145951ad",
   "metadata": {},
   "outputs": [
    {
     "data": {
      "text/plain": [
       "{'st01': 'Eizwan Ahmed',\n",
       " 'st03': 'Saimaa Khan',\n",
       " 'st04': 'Shahid Ahmed',\n",
       " 'st02': 'Ahmed Ali'}"
      ]
     },
     "execution_count": 12,
     "metadata": {},
     "output_type": "execute_result"
    }
   ],
   "source": [
    "student_names[\"st02\"] = \"Ahmed Ali\"\n",
    "student_names"
   ]
  },
  {
   "cell_type": "code",
   "execution_count": 13,
   "id": "5594333f",
   "metadata": {},
   "outputs": [
    {
     "data": {
      "text/plain": [
       "{'st01': 'Eizwan Ahmed',\n",
       " 'st03': 'Saimaa Khan',\n",
       " 'st04': 'Shahid Ahmed',\n",
       " 'st02': 'Ahmed Ali'}"
      ]
     },
     "execution_count": 13,
     "metadata": {},
     "output_type": "execute_result"
    }
   ],
   "source": [
    "student_names\n"
   ]
  },
  {
   "cell_type": "code",
   "execution_count": 19,
   "id": "0b0b2a05",
   "metadata": {},
   "outputs": [
    {
     "name": "stdout",
     "output_type": "stream",
     "text": [
      "{'st01': 'Eizwan Ahmed', 'st03': 'Saimaa Khan', 'st04': 'Shahid Ahmed', 'st02': 'Ahmed Ali'}\n"
     ]
    },
    {
     "data": {
      "text/plain": [
       "{'st01': 'Eizwan Ahmed',\n",
       " 'st03': 'Saimaa Khan',\n",
       " 'st04': 'Shahid Ahmed',\n",
       " 'st02': 'Ahmed Ali'}"
      ]
     },
     "execution_count": 19,
     "metadata": {},
     "output_type": "execute_result"
    }
   ],
   "source": [
    "print(student_names)\n",
    "copy_student_names = student_names.copy()\n",
    "copy_student_names"
   ]
  },
  {
   "cell_type": "code",
   "execution_count": 24,
   "id": "cd7e6d7b",
   "metadata": {},
   "outputs": [
    {
     "data": {
      "text/plain": [
       "{'st01': 'Eizwan Ahmed',\n",
       " 'st03': 'Saimaa Khan',\n",
       " 'st04': 'Shahid Ahmed',\n",
       " 'st02': 'Ahmed Ali'}"
      ]
     },
     "execution_count": 24,
     "metadata": {},
     "output_type": "execute_result"
    }
   ],
   "source": [
    "new_student_names = student_names\n",
    "new_student_names"
   ]
  },
  {
   "cell_type": "code",
   "execution_count": 25,
   "id": "696e8f06",
   "metadata": {},
   "outputs": [
    {
     "name": "stdout",
     "output_type": "stream",
     "text": [
      "True\n"
     ]
    },
    {
     "data": {
      "text/plain": [
       "False"
      ]
     },
     "execution_count": 25,
     "metadata": {},
     "output_type": "execute_result"
    }
   ],
   "source": [
    "print(new_student_names is student_names)\n",
    "copy_student_names is student_names"
   ]
  },
  {
   "cell_type": "code",
   "execution_count": null,
   "id": "b59ccc57",
   "metadata": {},
   "outputs": [],
   "source": []
  }
 ],
 "metadata": {
  "kernelspec": {
   "display_name": "Python 3",
   "language": "python",
   "name": "python3"
  },
  "language_info": {
   "codemirror_mode": {
    "name": "ipython",
    "version": 3
   },
   "file_extension": ".py",
   "mimetype": "text/x-python",
   "name": "python",
   "nbconvert_exporter": "python",
   "pygments_lexer": "ipython3",
   "version": "3.13.7"
  }
 },
 "nbformat": 4,
 "nbformat_minor": 5
}
