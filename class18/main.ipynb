{
 "cells": [
  {
   "cell_type": "markdown",
   "id": "86f6e612",
   "metadata": {},
   "source": [
    "# Arbitarary params"
   ]
  },
  {
   "cell_type": "markdown",
   "id": "0bb59ee7",
   "metadata": {},
   "source": [
    "### when we make postional arguments\n",
    "it returns tuppls"
   ]
  },
  {
   "cell_type": "code",
   "execution_count": null,
   "id": "c1b20f78",
   "metadata": {},
   "outputs": [
    {
     "name": "stdout",
     "output_type": "stream",
     "text": [
      "('paproni', 'cheese', 'potato')\n"
     ]
    }
   ],
   "source": [
    "def main(*args):\n",
    "    print(args)\n",
    "\n",
    "main(\"paproni\", \"cheese\", \"potato\")"
   ]
  },
  {
   "cell_type": "code",
   "execution_count": null,
   "id": "49b2d3e1",
   "metadata": {},
   "outputs": [],
   "source": [
    "def make_pizza(size, *topings):\n",
    "    print(f\"Making a pizza \")"
   ]
  },
  {
   "cell_type": "markdown",
   "id": "59de787c",
   "metadata": {},
   "source": [
    "### when we give keyword arguments\n",
    "resilt will be dictionary"
   ]
  },
  {
   "cell_type": "code",
   "execution_count": null,
   "id": "d5a30a58",
   "metadata": {},
   "outputs": [],
   "source": [
    "def build_profile(fname, lname, **kwargs):\n",
    "    print(fname, lname, kwargs)\n",
    "\n",
    "build_profile(\"Rizwan\", \"Ahmed\", kwargs=\"karachi\",\"pakistan\")\n",
    "    "
   ]
  },
  {
   "cell_type": "code",
   "execution_count": 7,
   "id": "710f507d",
   "metadata": {},
   "outputs": [
    {
     "data": {
      "text/plain": [
       "20"
      ]
     },
     "execution_count": 7,
     "metadata": {},
     "output_type": "execute_result"
    }
   ],
   "source": [
    "def enough(cap, on, wait):\n",
    "    x = cap -on\n",
    "    if x > wait:\n",
    "        return 0\n",
    "    else:\n",
    "        return (on +wait - cap)\n",
    "\n",
    "enough(50,15,35)\n",
    "enough(70,15,65)\n",
    "enough(100,95,25)"
   ]
  },
  {
   "cell_type": "code",
   "execution_count": 20,
   "id": "bb73e7da",
   "metadata": {},
   "outputs": [
    {
     "name": "stdout",
     "output_type": "stream",
     "text": [
      "[0]\n"
     ]
    }
   ],
   "source": [
    "n = 0\n",
    "def degitize(n):\n",
    "    arr = []\n",
    "    str_n = str(n)\n",
    "\n",
    "    for i in str_n:\n",
    "        arr.append(int(i))\n",
    "        \n",
    "    result = arr[::-1]\n",
    "    print(result)\n",
    "         \n",
    "\n",
    "degitize(n)"
   ]
  },
  {
   "cell_type": "code",
   "execution_count": 33,
   "id": "ed21cd47",
   "metadata": {},
   "outputs": [
    {
     "data": {
      "text/plain": [
       "'bcde'"
      ]
     },
     "execution_count": 33,
     "metadata": {},
     "output_type": "execute_result"
    }
   ],
   "source": [
    "s = \"abcdef\"\n",
    "def remove_char(s):\n",
    "    if len(s) <= 2:\n",
    "        return \"\"\n",
    "    else:\n",
    "        return s[1:-1]  \n",
    "\n",
    "remove_char(s)"
   ]
  },
  {
   "cell_type": "code",
   "execution_count": 34,
   "id": "3b5efcdc",
   "metadata": {},
   "outputs": [
    {
     "data": {
      "text/plain": [
       "'bcde'"
      ]
     },
     "execution_count": 34,
     "metadata": {},
     "output_type": "execute_result"
    }
   ],
   "source": [
    "s = \"abcdef\"\n",
    "def remove_char(s):\n",
    "    return s[1:-1]  \n",
    "\n",
    "remove_char(s)"
   ]
  }
 ],
 "metadata": {
  "kernelspec": {
   "display_name": "Python 3",
   "language": "python",
   "name": "python3"
  },
  "language_info": {
   "codemirror_mode": {
    "name": "ipython",
    "version": 3
   },
   "file_extension": ".py",
   "mimetype": "text/x-python",
   "name": "python",
   "nbconvert_exporter": "python",
   "pygments_lexer": "ipython3",
   "version": "3.13.7"
  }
 },
 "nbformat": 4,
 "nbformat_minor": 5
}
