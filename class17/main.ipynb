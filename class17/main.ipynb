{
 "cells": [
  {
   "cell_type": "markdown",
   "id": "76bc8a6c",
   "metadata": {},
   "source": [
    "### create a function create_album().. \n",
    "take input from user singer name and album name, append singer and his album into dictionary and if None return dictionary\n",
    "create an optional variable named songs = None and if songs are present \n",
    "create a function if songs are present then return a dictionary with songs "
   ]
  },
  {
   "cell_type": "code",
   "execution_count": null,
   "id": "668a1444",
   "metadata": {},
   "outputs": [],
   "source": [
    "\n",
    "def create_album():\n",
    "    user_input = True\n",
    "    while user_input:\n",
    "        singer_name = input(\"Enter Singer name: \")\n",
    "        album_name = input(\"Enter Album name: \")\n",
    "        concert_dictionary = {\n",
    "            \"singer\": singer_name,\n",
    "            \"album\": album_name\n",
    "        }\n",
    "        # print(concert_dictionary)\n",
    "\n",
    "        if singer_name == None and album_name == None:\n",
    "            # print(concert_dictionary)\n",
    "            user_input = False\n",
    "            return concert_dictionary\n",
    "\n",
    "\n",
    "create_album()\n",
    "\n",
    "    "
   ]
  },
  {
   "cell_type": "code",
   "execution_count": 1,
   "id": "c6a9b964",
   "metadata": {},
   "outputs": [
    {
     "data": {
      "text/plain": [
       "{'Singer': 'koi naheen hay', 'Title': ''}"
      ]
     },
     "execution_count": 1,
     "metadata": {},
     "output_type": "execute_result"
    }
   ],
   "source": [
    "def create_album():\n",
    "    singer = input(\"Emter singer name: \")\n",
    "    title = input(\"Emter album title: \")\n",
    "    songs = input(\"Enter songs in album if present: \")\n",
    "    album = {}\n",
    "    while singer != \"\":\n",
    "        if songs:\n",
    "            album[\"Singer\"] = singer\n",
    "            album[\"Title\"] = title\n",
    "            album[\"songs\"] = songs\n",
    "            singer = input(\"Emter singer name: \")\n",
    "            title = input(\"Emter album title: \")\n",
    "            songs = input(\"Enter songs in album if present: \")\n",
    "        else:\n",
    "            album[\"Singer\"] = singer\n",
    "            album[\"Title\"] = title\n",
    "            singer = input(\"Emter singer name: \")\n",
    "            title = input(\"Emter album title: \")\n",
    "            \n",
    "    return album\n",
    "\n",
    "create_album()"
   ]
  }
 ],
 "metadata": {
  "kernelspec": {
   "display_name": "Python 3",
   "language": "python",
   "name": "python3"
  },
  "language_info": {
   "codemirror_mode": {
    "name": "ipython",
    "version": 3
   },
   "file_extension": ".py",
   "mimetype": "text/x-python",
   "name": "python",
   "nbconvert_exporter": "python",
   "pygments_lexer": "ipython3",
   "version": "3.13.7"
  }
 },
 "nbformat": 4,
 "nbformat_minor": 5
}
