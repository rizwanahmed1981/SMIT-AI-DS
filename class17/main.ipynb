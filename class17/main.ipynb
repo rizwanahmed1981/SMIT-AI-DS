{
 "cells": [
  {
   "cell_type": "markdown",
   "id": "76bc8a6c",
   "metadata": {},
   "source": [
    "### create a function create_album().. \n",
    "take input from user singer name and album name, append singer and his album into dictionary and if None return dictionary\n",
    "create an optional variable named songs = None and if songs are present \n",
    "create a function if songs are present then return a dictionary with songs "
   ]
  },
  {
   "cell_type": "code",
   "execution_count": null,
   "id": "668a1444",
   "metadata": {},
   "outputs": [],
   "source": [
    "\n",
    "def create_album():\n",
    "    user_input = True\n",
    "    while user_input:\n",
    "        singer_name = input(\"Enter Singer name: \")\n",
    "        album_name = input(\"Enter Album name: \")\n",
    "        concert_dictionary = {\n",
    "            \"singer\": singer_name,\n",
    "            \"album\": album_name\n",
    "        }\n",
    "        # print(concert_dictionary)\n",
    "\n",
    "        if singer_name == None and album_name == None:\n",
    "            # print(concert_dictionary)\n",
    "            user_input = False\n",
    "            return concert_dictionary\n",
    "\n",
    "\n",
    "create_album()\n",
    "\n",
    "    "
   ]
  },
  {
   "cell_type": "code",
   "execution_count": 1,
   "id": "c6a9b964",
   "metadata": {},
   "outputs": [
    {
     "data": {
      "text/plain": [
       "{'Singer': 'koi naheen hay', 'Title': ''}"
      ]
     },
     "execution_count": 1,
     "metadata": {},
     "output_type": "execute_result"
    }
   ],
   "source": [
    "def create_album():\n",
    "    singer = input(\"Emter singer name: \")\n",
    "    title = input(\"Emter album title: \")\n",
    "    songs = input(\"Enter songs in album if present: \")\n",
    "    album = {}\n",
    "    while singer != \"\":\n",
    "        if songs:\n",
    "            album[\"Singer\"] = singer\n",
    "            album[\"Title\"] = title\n",
    "            album[\"songs\"] = songs\n",
    "            singer = input(\"Emter singer name: \")\n",
    "            title = input(\"Emter album title: \")\n",
    "            songs = input(\"Enter songs in album if present: \")\n",
    "        else:\n",
    "            album[\"Singer\"] = singer\n",
    "            album[\"Title\"] = title\n",
    "            singer = input(\"Emter singer name: \")\n",
    "            title = input(\"Emter album title: \")\n",
    "            \n",
    "    return album\n",
    "\n",
    "create_album()"
   ]
  },
  {
   "cell_type": "code",
   "execution_count": 7,
   "id": "cdf7e471",
   "metadata": {},
   "outputs": [
    {
     "name": "stdout",
     "output_type": "stream",
     "text": [
      "{'Singer': 'Atif Aslam', 'Title': 'Teray Bina'}\n"
     ]
    }
   ],
   "source": [
    "def make_album():\n",
    "    # name = input(\"Enter artist name: \")\n",
    "    # title = input(\"Enter album title: \")\n",
    "    album = {}\n",
    "    flag = True\n",
    "\n",
    "    while flag:\n",
    "            name = input(\"Enter artist name: \")\n",
    "            title = input(\"Enter album title: \")\n",
    "            if name != \"\" and title != \"\":\n",
    "                album[\"Singer\"] = name\n",
    "                album[\"Title\"] = title\n",
    "            else:\n",
    "                 flag = False\n",
    "    \n",
    "    print(album)\n",
    "\n",
    "make_album()"
   ]
  },
  {
   "cell_type": "code",
   "execution_count": 9,
   "id": "1b3fb967",
   "metadata": {},
   "outputs": [
    {
     "ename": "TypeError",
     "evalue": "make_album() takes from 0 to 1 positional arguments but 3 were given",
     "output_type": "error",
     "traceback": [
      "\u001b[31m---------------------------------------------------------------------------\u001b[39m",
      "\u001b[31mTypeError\u001b[39m                                 Traceback (most recent call last)",
      "\u001b[36mCell\u001b[39m\u001b[36m \u001b[39m\u001b[32mIn[9]\u001b[39m\u001b[32m, line 23\u001b[39m\n\u001b[32m     19\u001b[39m                  flag = \u001b[38;5;28;01mFalse\u001b[39;00m\n\u001b[32m     21\u001b[39m     \u001b[38;5;28mprint\u001b[39m(album)\n\u001b[32m---> \u001b[39m\u001b[32m23\u001b[39m \u001b[43mmake_album\u001b[49m\u001b[43m(\u001b[49m\u001b[43mname\u001b[49m\u001b[43m,\u001b[49m\u001b[43m \u001b[49m\u001b[43mtitle\u001b[49m\u001b[43m,\u001b[49m\u001b[43m \u001b[49m\u001b[43msongs\u001b[49m\u001b[43m)\u001b[49m\n",
      "\u001b[31mTypeError\u001b[39m: make_album() takes from 0 to 1 positional arguments but 3 were given"
     ]
    }
   ],
   "source": [
    "\n",
    "\n",
    "songs = input(\"Enter song title: \")\n",
    "\n",
    "def make_album(songs= None):\n",
    "    album = {}\n",
    "    flag = True\n",
    "\n",
    "    while flag:\n",
    "            name = input(\"Enter artist name: \")\n",
    "            title = input(\"Enter album title: \")\n",
    "            if songs != None:\n",
    "                album[\"Singer\"] = name\n",
    "                album[\"Title\"] = title \n",
    "                album[\"song\"] = songs \n",
    "            \n",
    "            elif name != \"\" and title != \"\":\n",
    "                album[\"Singer\"] = name\n",
    "                album[\"Title\"] = title\n",
    "            else:\n",
    "                 flag = False\n",
    "    \n",
    "    print(album)\n",
    "\n",
    "make_album(name, title, songs)"
   ]
  },
  {
   "cell_type": "code",
   "execution_count": 2,
   "id": "b3b391bc",
   "metadata": {},
   "outputs": [
    {
     "name": "stdout",
     "output_type": "stream",
     "text": [
      "Size :Large says I Love Python\n",
      "Size :Medium says I Love Python\n",
      "Size :small says I Love Pakistan\n"
     ]
    }
   ],
   "source": [
    "def make_shirt(size, message = \"I Love Python\"):\n",
    "    print(f\"Size :{size} says {message}\")\n",
    "\n",
    "make_shirt(\"Large\")\n",
    "make_shirt(\"Medium\")\n",
    "make_shirt(\"small\", \"I Love Pakistan\")\n",
    "\n"
   ]
  }
 ],
 "metadata": {
  "kernelspec": {
   "display_name": "Python 3",
   "language": "python",
   "name": "python3"
  },
  "language_info": {
   "codemirror_mode": {
    "name": "ipython",
    "version": 3
   },
   "file_extension": ".py",
   "mimetype": "text/x-python",
   "name": "python",
   "nbconvert_exporter": "python",
   "pygments_lexer": "ipython3",
   "version": "3.13.7"
  }
 },
 "nbformat": 4,
 "nbformat_minor": 5
}
