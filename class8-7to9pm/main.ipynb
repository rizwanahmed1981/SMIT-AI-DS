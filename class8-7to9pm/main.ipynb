{
 "cells": [
  {
   "cell_type": "code",
   "execution_count": 3,
   "id": "79dc5c02",
   "metadata": {},
   "outputs": [
    {
     "name": "stdout",
     "output_type": "stream",
     "text": [
      "my name is Rizwan Ahmed s/o sherbaz "
     ]
    }
   ],
   "source": [
    "print(\"my name is\", end=\" \")\n",
    "print(\"Rizwan Ahmed\", end=\" \")\n",
    "print(\"s/o sherbaz\", end=\" \")"
   ]
  },
  {
   "cell_type": "code",
   "execution_count": null,
   "id": "0e4d1505",
   "metadata": {},
   "outputs": [
    {
     "name": "stdout",
     "output_type": "stream",
     "text": [
      "Rizwan Ahmed ++++++razy kan\n"
     ]
    }
   ],
   "source": [
    "fname = \"Rizwan Ahmed\"\n",
    "lname = \"razy kan\"\n",
    "print(fname, lname, sep=\"++++++\")"
   ]
  },
  {
   "cell_type": "code",
   "execution_count": 18,
   "id": "6524cba0",
   "metadata": {},
   "outputs": [
    {
     "name": "stdout",
     "output_type": "stream",
     "text": [
      "1936425989104\n",
      "1936427856256\n"
     ]
    }
   ],
   "source": [
    "fname = \"Ahmed\"\n",
    "lname = \"ahmed\"\n",
    "print(id(fname))\n",
    "print(id(lname))"
   ]
  },
  {
   "cell_type": "code",
   "execution_count": 19,
   "id": "7890997f",
   "metadata": {},
   "outputs": [
    {
     "name": "stdout",
     "output_type": "stream",
     "text": [
      "1936425989104\n",
      "1936427856256\n"
     ]
    }
   ],
   "source": [
    "lanme = fname\n",
    "print(id(fname))\n",
    "print(id(lname))"
   ]
  },
  {
   "cell_type": "markdown",
   "id": "349a4228",
   "metadata": {},
   "source": [
    "# type casting"
   ]
  },
  {
   "cell_type": "code",
   "execution_count": 20,
   "id": "f17c0a97",
   "metadata": {},
   "outputs": [
    {
     "ename": "ValueError",
     "evalue": "invalid literal for int() with base 10: 'Rizwan'",
     "output_type": "error",
     "traceback": [
      "\u001b[31m---------------------------------------------------------------------------\u001b[39m",
      "\u001b[31mValueError\u001b[39m                                Traceback (most recent call last)",
      "\u001b[36mCell\u001b[39m\u001b[36m \u001b[39m\u001b[32mIn[20]\u001b[39m\u001b[32m, line 2\u001b[39m\n\u001b[32m      1\u001b[39m name = \u001b[33m\"\u001b[39m\u001b[33mRizwan\u001b[39m\u001b[33m\"\u001b[39m\n\u001b[32m----> \u001b[39m\u001b[32m2\u001b[39m \u001b[38;5;28;43mint\u001b[39;49m\u001b[43m(\u001b[49m\u001b[43mname\u001b[49m\u001b[43m)\u001b[49m\n",
      "\u001b[31mValueError\u001b[39m: invalid literal for int() with base 10: 'Rizwan'"
     ]
    }
   ],
   "source": [
    "name = \"Rizwan\"\n",
    "int(name)"
   ]
  },
  {
   "cell_type": "code",
   "execution_count": 23,
   "id": "7c192f98",
   "metadata": {},
   "outputs": [
    {
     "data": {
      "text/plain": [
       "24.0"
      ]
     },
     "execution_count": 23,
     "metadata": {},
     "output_type": "execute_result"
    }
   ],
   "source": [
    "num = 24\n",
    "str(num)\n",
    "int(num)\n",
    "float(num)"
   ]
  },
  {
   "cell_type": "code",
   "execution_count": 1,
   "id": "1c043101",
   "metadata": {},
   "outputs": [
    {
     "name": "stdout",
     "output_type": "stream",
     "text": [
      "You are not eligible for CNIC because your nationality is not Pakistan: \n"
     ]
    }
   ],
   "source": [
    "age = float(input(\"Enter your age: \"))\n",
    "country = input(\"Enter your country: \")\n",
    "\n",
    "if age >= 18 and country == \"Pakistan\":\n",
    "    print(\"You are eligible for CNIC: \")\n",
    "elif age >= 18 and country != \"Pakistan\":\n",
    "    print(\"You are not eligible for CNIC because your nationality is not Pakistan: \")\n",
    "else:\n",
    "    print(\"You are not eligible for CNIC because your age is less than 18: \")"
   ]
  }
 ],
 "metadata": {
  "kernelspec": {
   "display_name": "Python 3",
   "language": "python",
   "name": "python3"
  },
  "language_info": {
   "codemirror_mode": {
    "name": "ipython",
    "version": 3
   },
   "file_extension": ".py",
   "mimetype": "text/x-python",
   "name": "python",
   "nbconvert_exporter": "python",
   "pygments_lexer": "ipython3",
   "version": "3.13.7"
  }
 },
 "nbformat": 4,
 "nbformat_minor": 5
}
