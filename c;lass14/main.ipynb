{
 "cells": [
  {
   "cell_type": "code",
   "execution_count": 14,
   "id": "57128422",
   "metadata": {},
   "outputs": [
    {
     "name": "stdout",
     "output_type": "stream",
     "text": [
      "33\n"
     ]
    }
   ],
   "source": [
    "# Remove smalest and largest element of the list and sum the remaining element\n",
    "\n",
    "\n",
    "nums = [3,11,24,4,3,15]\n",
    "\n",
    "nums.sort()\n",
    "nums_sliced = nums[1:-1]\n",
    "result = sum(nums_sliced)\n",
    "print(result)"
   ]
  },
  {
   "cell_type": "code",
   "execution_count": 5,
   "id": "f8a0d917",
   "metadata": {},
   "outputs": [
    {
     "name": "stdout",
     "output_type": "stream",
     "text": [
      "74\n"
     ]
    }
   ],
   "source": [
    "nums = [5,45,78,4,7,9,8]\n",
    "\n",
    "nums.sort()\n",
    "nums_sliced = nums[1:-1]\n",
    "result = sum(nums_sliced)\n",
    "print(result)"
   ]
  },
  {
   "cell_type": "code",
   "execution_count": 6,
   "id": "2a70f260",
   "metadata": {},
   "outputs": [
    {
     "name": "stdout",
     "output_type": "stream",
     "text": [
      "0\n"
     ]
    }
   ],
   "source": [
    "nums = []\n",
    "\n",
    "nums.sort()\n",
    "nums_sliced = nums[1:-1]\n",
    "result = sum(nums_sliced)\n",
    "print(result)"
   ]
  },
  {
   "cell_type": "code",
   "execution_count": null,
   "id": "4f434fe5",
   "metadata": {},
   "outputs": [
    {
     "name": "stdout",
     "output_type": "stream",
     "text": [
      "0\n"
     ]
    }
   ],
   "source": [
    "nums = [2]\n",
    "\n",
    "nums.sort()\n",
    "nums_sliced = nums[1:-1]\n",
    "result = sum(nums_sliced)\n",
    "print(result)"
   ]
  },
  {
   "cell_type": "code",
   "execution_count": 9,
   "id": "291e43a8",
   "metadata": {},
   "outputs": [
    {
     "name": "stdout",
     "output_type": "stream",
     "text": [
      "0\n"
     ]
    }
   ],
   "source": [
    "nums = [None]\n",
    "\n",
    "nums.sort()\n",
    "nums_sliced = nums[1:-1]\n",
    "result = sum(nums_sliced)\n",
    "print(result)"
   ]
  },
  {
   "cell_type": "code",
   "execution_count": null,
   "id": "46b58b43",
   "metadata": {},
   "outputs": [
    {
     "name": "stdout",
     "output_type": "stream",
     "text": [
      "2\n"
     ]
    }
   ],
   "source": [
    "nums = [1,2,3]\n",
    "\n",
    "\n",
    "nums.sort()\n",
    "nums_sliced = nums[1:-1]\n",
    "result = sum(nums_sliced)\n",
    "print(result)\n"
   ]
  },
  {
   "cell_type": "code",
   "execution_count": null,
   "id": "36f8dbe1",
   "metadata": {},
   "outputs": [
    {
     "name": "stdout",
     "output_type": "stream",
     "text": [
      "[3, 11, 4, 3, 15]\n"
     ]
    }
   ],
   "source": [
    "\n",
    "# remove the min and the max number and sum the remaining numbers in the list\n",
    "nums = [3,11,24,4,3,15]\n",
    "\n",
    "# nums.remove()\n",
    "# max_num = nums.extend()"
   ]
  },
  {
   "cell_type": "code",
   "execution_count": null,
   "id": "82998ac7",
   "metadata": {},
   "outputs": [],
   "source": [
    "cities = [\"karachi\", \"lahore\", \"larkana\", \"queta\", \"peshawar\", \"sakhar\", \"thata\", \"badin\", \"attock\"]\n",
    "\n"
   ]
  }
 ],
 "metadata": {
  "kernelspec": {
   "display_name": "Python 3",
   "language": "python",
   "name": "python3"
  },
  "language_info": {
   "codemirror_mode": {
    "name": "ipython",
    "version": 3
   },
   "file_extension": ".py",
   "mimetype": "text/x-python",
   "name": "python",
   "nbconvert_exporter": "python",
   "pygments_lexer": "ipython3",
   "version": "3.13.7"
  }
 },
 "nbformat": 4,
 "nbformat_minor": 5
}
