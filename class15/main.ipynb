{
 "cells": [
  {
   "cell_type": "markdown",
   "id": "3b81fb55",
   "metadata": {},
   "source": [
    "## Nested Loop\n"
   ]
  },
  {
   "cell_type": "code",
   "execution_count": 1,
   "id": "c143f9a8",
   "metadata": {},
   "outputs": [
    {
     "name": "stdout",
     "output_type": "stream",
     "text": [
      "4 X 1 = 4 \n",
      "4 X 2 = 8 \n",
      "4 X 3 = 12 \n",
      "4 X 4 = 16 \n",
      "4 X 5 = 20 \n",
      "4 X 6 = 24 \n",
      "4 X 7 = 28 \n",
      "4 X 8 = 32 \n",
      "4 X 9 = 36 \n",
      "4 X 10 = 40 \n"
     ]
    }
   ],
   "source": [
    "num = int(input(\"enter the number of which table you want to print: \"))\n",
    "\n",
    "for i in range(1,11):\n",
    "    print(f\"{num} X {i} = {num * i} \")"
   ]
  },
  {
   "cell_type": "code",
   "execution_count": 2,
   "id": "52ae3d07",
   "metadata": {},
   "outputs": [
    {
     "name": "stdout",
     "output_type": "stream",
     "text": [
      "size: Small color: Red\n",
      "size: Medium color: Red\n",
      "size: Large color: Red\n",
      "size: Small color: Blue\n",
      "size: Medium color: Blue\n",
      "size: Large color: Blue\n",
      "size: Small color: Green\n",
      "size: Medium color: Green\n",
      "size: Large color: Green\n"
     ]
    }
   ],
   "source": [
    "colors = [\"Red\", \"Blue\", \"Green\"]\n",
    "sizes = [\"Small\", \"Medium\", \"Large\"]\n",
    "\n",
    "\n",
    "for color in colors:\n",
    "    for size in sizes:\n",
    "        print(f\"size: {size} color: {color}\")"
   ]
  },
  {
   "cell_type": "code",
   "execution_count": 3,
   "id": "2470305e",
   "metadata": {},
   "outputs": [
    {
     "name": "stdout",
     "output_type": "stream",
     "text": [
      "\n"
     ]
    }
   ],
   "source": [
    "# print those cities having unique charector\n",
    "country = input(\"enter country: \").lower()\n",
    "\n",
    "print()\n"
   ]
  },
  {
   "cell_type": "markdown",
   "id": "00377d1c",
   "metadata": {},
   "source": [
    "# Function\n"
   ]
  },
  {
   "cell_type": "code",
   "execution_count": 4,
   "id": "8f3b6c6f",
   "metadata": {},
   "outputs": [],
   "source": [
    "# nums = [1,2,3,4,5,6,7,8,9,10,11,12,13]\n",
    "def get_evem_odd(param):\n",
    "    even_nums = []\n",
    "    odd_nums = []\n",
    "\n",
    "    for num in param:\n",
    "        if num%2 == 0:\n",
    "            even_nums.append(num)\n",
    "        else:\n",
    "            odd_nums.append(num)\n",
    "    # return list(even_nums), list(odd_nums)\n",
    "    print(even_nums, odd_nums, sep=\"\\n\")"
   ]
  },
  {
   "cell_type": "code",
   "execution_count": 5,
   "id": "5fc52ffe",
   "metadata": {},
   "outputs": [
    {
     "name": "stdout",
     "output_type": "stream",
     "text": [
      "[2, 4, 6, 8, 10, 12]\n",
      "[1, 3, 5, 7, 9, 11, 13]\n"
     ]
    }
   ],
   "source": [
    "nums = [1,2,3,4,5,6,7,8,9,10,11,12,13]\n",
    "result = get_evem_odd(nums)\n",
    "# print(list(result))\n",
    "# result[0]\n",
    "# result[1]"
   ]
  },
  {
   "cell_type": "code",
   "execution_count": 6,
   "id": "b43729e8",
   "metadata": {},
   "outputs": [
    {
     "name": "stdout",
     "output_type": "stream",
     "text": [
      "Even numbers: [2, 4, 6, 8, 10, 12]\n",
      "Odd numbers: [1, 3, 5, 7, 9, 11, 13]\n"
     ]
    }
   ],
   "source": [
    "def get_even_odd(param):\n",
    "    even_nums = []\n",
    "    odd_nums = []\n",
    "\n",
    "    for num in param:\n",
    "        if num % 2 == 0:\n",
    "            even_nums.append(num)\n",
    "        else:\n",
    "            odd_nums.append(num)\n",
    "\n",
    "    return even_nums, odd_nums  # returns a tuple of two lists\n",
    "\n",
    "nums = [1,2,3,4,5,6,7,8,9,10,11,12,13]\n",
    "evens, odds = get_even_odd(nums)\n",
    "print(\"Even numbers:\", evens)\n",
    "print(\"Odd numbers:\", odds)\n"
   ]
  }
 ],
 "metadata": {
  "kernelspec": {
   "display_name": "Python 3",
   "language": "python",
   "name": "python3"
  },
  "language_info": {
   "codemirror_mode": {
    "name": "ipython",
    "version": 3
   },
   "file_extension": ".py",
   "mimetype": "text/x-python",
   "name": "python",
   "nbconvert_exporter": "python",
   "pygments_lexer": "ipython3",
   "version": "3.13.7"
  }
 },
 "nbformat": 4,
 "nbformat_minor": 5
}
