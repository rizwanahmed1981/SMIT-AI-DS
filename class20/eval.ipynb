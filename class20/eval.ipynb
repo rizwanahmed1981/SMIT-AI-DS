{
 "cells": [
  {
   "cell_type": "markdown",
   "id": "ca9224d3",
   "metadata": {},
   "source": [
    "### Eval()"
   ]
  },
  {
   "cell_type": "code",
   "execution_count": null,
   "id": "c6ffba5d",
   "metadata": {},
   "outputs": [],
   "source": [
    "def calculate(opp):\n",
    "    num1 = input(\"enter your first number: \")\n",
    "    num2 = input(\"enter your second number: \")\n",
    "    return eval(f\"{num1} {opp} {num2}\")\n",
    "\n",
    "calculate('+')"
   ]
  },
  {
   "cell_type": "code",
   "execution_count": 3,
   "id": "ce1b98be",
   "metadata": {},
   "outputs": [
    {
     "ename": "SyntaxError",
     "evalue": "invalid character '√' (U+221A) (<string>, line 1)",
     "output_type": "error",
     "traceback": [
      "Traceback \u001b[36m(most recent call last)\u001b[39m:\n",
      "  File \u001b[92m~\\AppData\\Roaming\\Python\\Python313\\site-packages\\IPython\\core\\interactiveshell.py:3549\u001b[39m in \u001b[95mrun_code\u001b[39m\n    exec(code_obj, self.user_global_ns, self.user_ns)\n",
      "  Cell \u001b[92mIn[3]\u001b[39m\u001b[92m, line 8\u001b[39m\n    calculate(opp)\n",
      "\u001b[36m  \u001b[39m\u001b[36mCell\u001b[39m\u001b[36m \u001b[39m\u001b[32mIn[3]\u001b[39m\u001b[32m, line 6\u001b[39m\u001b[36m in \u001b[39m\u001b[35mcalculate\u001b[39m\n\u001b[31m    \u001b[39m\u001b[31mreturn eval(f\"{num1} {opp} {num2}\")\u001b[39m\n",
      "  \u001b[36mFile \u001b[39m\u001b[32m<string>:1\u001b[39m\n\u001b[31m    \u001b[39m\u001b[31m3 √ 8\u001b[39m\n      ^\n\u001b[31mSyntaxError\u001b[39m\u001b[31m:\u001b[39m invalid character '√' (U+221A)\n"
     ]
    }
   ],
   "source": [
    "\n",
    "opp = input(\"enter operation to perform: \")\n",
    "def calculate(opp):\n",
    "    num1 = int(input(\"enter your first number: \"))\n",
    "    num2 = int(input(\"enter your second number: \"))\n",
    "\n",
    "    return eval(f\"{num1} {opp} {num2}\")\n",
    "\n",
    "calculate(opp)\n",
    "\n"
   ]
  }
 ],
 "metadata": {
  "kernelspec": {
   "display_name": "Python 3",
   "language": "python",
   "name": "python3"
  },
  "language_info": {
   "codemirror_mode": {
    "name": "ipython",
    "version": 3
   },
   "file_extension": ".py",
   "mimetype": "text/x-python",
   "name": "python",
   "nbconvert_exporter": "python",
   "pygments_lexer": "ipython3",
   "version": "3.13.7"
  }
 },
 "nbformat": 4,
 "nbformat_minor": 5
}
