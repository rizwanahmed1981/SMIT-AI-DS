{
 "cells": [
  {
   "cell_type": "code",
   "execution_count": 4,
   "id": "efe61ad5",
   "metadata": {},
   "outputs": [
    {
     "data": {
      "text/plain": [
       "['[', '1', '.', '2', '.', '3', '.', '4', '.', '5', ']', 6]"
      ]
     },
     "execution_count": 4,
     "metadata": {},
     "output_type": "execute_result"
    }
   ],
   "source": [
    "nums = '[1.2.3.4.5]'\n",
    "\n",
    "num2 =list(nums)\n",
    "num2.append(6)\n",
    "num2"
   ]
  },
  {
   "cell_type": "code",
   "execution_count": 6,
   "id": "ab99ea3c",
   "metadata": {},
   "outputs": [
    {
     "name": "stdout",
     "output_type": "stream",
     "text": [
      "Custom Exception Caught: Negative numbers are not allowed!\n"
     ]
    }
   ],
   "source": [
    "class NegativeNumberError(Exception):\n",
    "    \"\"\"Custom exception for negative numbers\"\"\"\n",
    "    pass\n",
    "\n",
    "def check_positive(n):\n",
    "    if n < 0:\n",
    "        raise NegativeNumberError(\"Negative numbers are not allowed!\")\n",
    "    return f\"{n} is positive\"\n",
    "\n",
    "try:\n",
    "    print(check_positive(-5))  # Raises NegativeNumberError\n",
    "except NegativeNumberError as e:\n",
    "    print(f\"Custom Exception Caught: {e}\") #, \" - Exception Class Type: \", type(e))  # Output: Custom Exception Caught: Negative numbers are not allowed!\n"
   ]
  }
 ],
 "metadata": {
  "kernelspec": {
   "display_name": "Python 3",
   "language": "python",
   "name": "python3"
  },
  "language_info": {
   "codemirror_mode": {
    "name": "ipython",
    "version": 3
   },
   "file_extension": ".py",
   "mimetype": "text/x-python",
   "name": "python",
   "nbconvert_exporter": "python",
   "pygments_lexer": "ipython3",
   "version": "3.13.7"
  }
 },
 "nbformat": 4,
 "nbformat_minor": 5
}
